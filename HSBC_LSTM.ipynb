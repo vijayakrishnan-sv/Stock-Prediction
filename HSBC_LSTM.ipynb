{
 "cells": [
  {
   "cell_type": "markdown",
   "metadata": {
    "id": "OQD9SIW2buc6"
   },
   "source": [
    "### Importing the libraries"
   ]
  },
  {
   "cell_type": "code",
   "execution_count": 55,
   "metadata": {
    "id": "SS-pOdCb4_hi"
   },
   "outputs": [],
   "source": [
    "import numpy as np\n",
    "import pandas as pd\n",
    "import matplotlib.pyplot as plt\n",
    "%matplotlib inline"
   ]
  },
  {
   "cell_type": "markdown",
   "metadata": {},
   "source": [
    "### Importing the data"
   ]
  },
  {
   "cell_type": "code",
   "execution_count": 56,
   "metadata": {
    "id": "XIG0DDPN7U1y"
   },
   "outputs": [],
   "source": [
    "uploaded = files.upload()\n",
    "dataset_train= pd.read_csv(io.BytesIO(uploaded['HSBC.csv']))"
   ]
  },
  {
   "cell_type": "code",
   "execution_count": 57,
   "metadata": {
    "colab": {
     "base_uri": "https://localhost:8080/"
    },
    "id": "xLDTeAog7gTK",
    "outputId": "03ebc879-9199-4f0b-f0c6-e6b06b9be0ec"
   },
   "outputs": [
    {
     "data": {
      "text/plain": [
       "(1259, 7)"
      ]
     },
     "execution_count": 57,
     "metadata": {},
     "output_type": "execute_result"
    }
   ],
   "source": [
    "dataset_train.shape"
   ]
  },
  {
   "cell_type": "code",
   "execution_count": 58,
   "metadata": {
    "colab": {
     "base_uri": "https://localhost:8080/",
     "height": 419
    },
    "id": "DotZ-BOyD45E",
    "outputId": "6f8228ae-4b9d-4bf9-c923-440a5647986c"
   },
   "outputs": [
    {
     "data": {
      "text/html": [
       "<div>\n",
       "<style scoped>\n",
       "    .dataframe tbody tr th:only-of-type {\n",
       "        vertical-align: middle;\n",
       "    }\n",
       "\n",
       "    .dataframe tbody tr th {\n",
       "        vertical-align: top;\n",
       "    }\n",
       "\n",
       "    .dataframe thead th {\n",
       "        text-align: right;\n",
       "    }\n",
       "</style>\n",
       "<table border=\"1\" class=\"dataframe\">\n",
       "  <thead>\n",
       "    <tr style=\"text-align: right;\">\n",
       "      <th></th>\n",
       "      <th>Date</th>\n",
       "      <th>Open</th>\n",
       "      <th>High</th>\n",
       "      <th>Low</th>\n",
       "      <th>Close</th>\n",
       "      <th>Adj Close</th>\n",
       "      <th>Volume</th>\n",
       "    </tr>\n",
       "  </thead>\n",
       "  <tbody>\n",
       "    <tr>\n",
       "      <th>0</th>\n",
       "      <td>2015-11-27</td>\n",
       "      <td>40.250000</td>\n",
       "      <td>40.270000</td>\n",
       "      <td>40.080002</td>\n",
       "      <td>40.119999</td>\n",
       "      <td>30.339539</td>\n",
       "      <td>917300</td>\n",
       "    </tr>\n",
       "    <tr>\n",
       "      <th>1</th>\n",
       "      <td>2015-11-30</td>\n",
       "      <td>39.990002</td>\n",
       "      <td>40.040001</td>\n",
       "      <td>39.799999</td>\n",
       "      <td>39.900002</td>\n",
       "      <td>30.173164</td>\n",
       "      <td>1650100</td>\n",
       "    </tr>\n",
       "    <tr>\n",
       "      <th>2</th>\n",
       "      <td>2015-12-01</td>\n",
       "      <td>40.650002</td>\n",
       "      <td>40.740002</td>\n",
       "      <td>40.439999</td>\n",
       "      <td>40.650002</td>\n",
       "      <td>30.740339</td>\n",
       "      <td>1896800</td>\n",
       "    </tr>\n",
       "    <tr>\n",
       "      <th>3</th>\n",
       "      <td>2015-12-02</td>\n",
       "      <td>40.419998</td>\n",
       "      <td>40.540001</td>\n",
       "      <td>40.029999</td>\n",
       "      <td>40.130001</td>\n",
       "      <td>30.347105</td>\n",
       "      <td>1623500</td>\n",
       "    </tr>\n",
       "    <tr>\n",
       "      <th>4</th>\n",
       "      <td>2015-12-03</td>\n",
       "      <td>40.310001</td>\n",
       "      <td>40.360001</td>\n",
       "      <td>39.529999</td>\n",
       "      <td>39.660000</td>\n",
       "      <td>29.991682</td>\n",
       "      <td>2949000</td>\n",
       "    </tr>\n",
       "    <tr>\n",
       "      <th>...</th>\n",
       "      <td>...</td>\n",
       "      <td>...</td>\n",
       "      <td>...</td>\n",
       "      <td>...</td>\n",
       "      <td>...</td>\n",
       "      <td>...</td>\n",
       "      <td>...</td>\n",
       "    </tr>\n",
       "    <tr>\n",
       "      <th>1254</th>\n",
       "      <td>2020-11-19</td>\n",
       "      <td>25.139999</td>\n",
       "      <td>25.389999</td>\n",
       "      <td>25.020000</td>\n",
       "      <td>25.379999</td>\n",
       "      <td>25.379999</td>\n",
       "      <td>2017100</td>\n",
       "    </tr>\n",
       "    <tr>\n",
       "      <th>1255</th>\n",
       "      <td>2020-11-20</td>\n",
       "      <td>25.320000</td>\n",
       "      <td>25.430000</td>\n",
       "      <td>25.200001</td>\n",
       "      <td>25.270000</td>\n",
       "      <td>25.270000</td>\n",
       "      <td>1933100</td>\n",
       "    </tr>\n",
       "    <tr>\n",
       "      <th>1256</th>\n",
       "      <td>2020-11-23</td>\n",
       "      <td>25.459999</td>\n",
       "      <td>25.620001</td>\n",
       "      <td>25.459999</td>\n",
       "      <td>25.610001</td>\n",
       "      <td>25.610001</td>\n",
       "      <td>2687600</td>\n",
       "    </tr>\n",
       "    <tr>\n",
       "      <th>1257</th>\n",
       "      <td>2020-11-24</td>\n",
       "      <td>26.160000</td>\n",
       "      <td>26.709999</td>\n",
       "      <td>26.160000</td>\n",
       "      <td>26.660000</td>\n",
       "      <td>26.660000</td>\n",
       "      <td>5645200</td>\n",
       "    </tr>\n",
       "    <tr>\n",
       "      <th>1258</th>\n",
       "      <td>2020-11-25</td>\n",
       "      <td>26.600000</td>\n",
       "      <td>26.790001</td>\n",
       "      <td>26.330000</td>\n",
       "      <td>26.750000</td>\n",
       "      <td>26.750000</td>\n",
       "      <td>2635700</td>\n",
       "    </tr>\n",
       "  </tbody>\n",
       "</table>\n",
       "<p>1259 rows × 7 columns</p>\n",
       "</div>"
      ],
      "text/plain": [
       "            Date       Open       High        Low      Close  Adj Close  \\\n",
       "0     2015-11-27  40.250000  40.270000  40.080002  40.119999  30.339539   \n",
       "1     2015-11-30  39.990002  40.040001  39.799999  39.900002  30.173164   \n",
       "2     2015-12-01  40.650002  40.740002  40.439999  40.650002  30.740339   \n",
       "3     2015-12-02  40.419998  40.540001  40.029999  40.130001  30.347105   \n",
       "4     2015-12-03  40.310001  40.360001  39.529999  39.660000  29.991682   \n",
       "...          ...        ...        ...        ...        ...        ...   \n",
       "1254  2020-11-19  25.139999  25.389999  25.020000  25.379999  25.379999   \n",
       "1255  2020-11-20  25.320000  25.430000  25.200001  25.270000  25.270000   \n",
       "1256  2020-11-23  25.459999  25.620001  25.459999  25.610001  25.610001   \n",
       "1257  2020-11-24  26.160000  26.709999  26.160000  26.660000  26.660000   \n",
       "1258  2020-11-25  26.600000  26.790001  26.330000  26.750000  26.750000   \n",
       "\n",
       "       Volume  \n",
       "0      917300  \n",
       "1     1650100  \n",
       "2     1896800  \n",
       "3     1623500  \n",
       "4     2949000  \n",
       "...       ...  \n",
       "1254  2017100  \n",
       "1255  1933100  \n",
       "1256  2687600  \n",
       "1257  5645200  \n",
       "1258  2635700  \n",
       "\n",
       "[1259 rows x 7 columns]"
      ]
     },
     "execution_count": 58,
     "metadata": {},
     "output_type": "execute_result"
    }
   ],
   "source": [
    "dataset_train"
   ]
  },
  {
   "cell_type": "markdown",
   "metadata": {},
   "source": [
    "### Visualization"
   ]
  },
  {
   "cell_type": "code",
   "execution_count": 59,
   "metadata": {},
   "outputs": [],
   "source": [
    "df_viz=dataset_train.copy()"
   ]
  },
  {
   "cell_type": "code",
   "execution_count": 60,
   "metadata": {},
   "outputs": [],
   "source": [
    "df_viz['Date'] = pd.to_datetime(df_viz['Date'])\n"
   ]
  },
  {
   "cell_type": "code",
   "execution_count": 61,
   "metadata": {},
   "outputs": [],
   "source": [
    "df_viz.index = df_viz[\"Date\"]\n"
   ]
  },
  {
   "cell_type": "code",
   "execution_count": 64,
   "metadata": {},
   "outputs": [
    {
     "data": {
      "image/png": "[encoded data removed]",
      "text/plain": [
       "<Figure size 864x432 with 1 Axes>"
      ]
     },
     "metadata": {
      "needs_background": "light"
     },
     "output_type": "display_data"
    }
   ],
   "source": [
    "df_viz[\"Close\"].plot(figsize = (12,6))\n",
    "plt.xlabel(\"Days\")\n",
    "plt.ylabel(\"Closing Price\")\n",
    "plt.title(\"HSBC Stock price in Days\")\n",
    "plt.show()"
   ]
  },
  {
   "cell_type": "markdown",
   "metadata": {},
   "source": [
    "### Setting train data"
   ]
  },
  {
   "cell_type": "code",
   "execution_count": null,
   "metadata": {
    "id": "Zt0yvoE-7kgK"
   },
   "outputs": [],
   "source": [
    "training_set = dataset_train.iloc[:, 4:5].values"
   ]
  },
  {
   "cell_type": "code",
   "execution_count": null,
   "metadata": {
    "colab": {
     "base_uri": "https://localhost:8080/"
    },
    "id": "LASx58BH7s1i",
    "outputId": "dd17d3de-ad41-485a-fa1a-843dfa947a56"
   },
   "outputs": [
    {
     "data": {
      "text/plain": [
       "array([[40.119999],\n",
       "       [39.900002],\n",
       "       [40.650002],\n",
       "       ...,\n",
       "       [25.610001],\n",
       "       [26.66    ],\n",
       "       [26.75    ]])"
      ]
     },
     "execution_count": 8,
     "metadata": {
      "tags": []
     },
     "output_type": "execute_result"
    }
   ],
   "source": [
    "training_set"
   ]
  },
  {
   "cell_type": "markdown",
   "metadata": {},
   "source": [
    "### Normalizing the data"
   ]
  },
  {
   "cell_type": "code",
   "execution_count": null,
   "metadata": {
    "id": "vEpfYJBS7usa"
   },
   "outputs": [],
   "source": [
    "#scaling\n",
    "from sklearn.preprocessing import MinMaxScaler\n",
    "sc = MinMaxScaler(feature_range = (0, 1))\n",
    "training_set_scaled = sc.fit_transform(training_set)"
   ]
  },
  {
   "cell_type": "markdown",
   "metadata": {},
   "source": [
    "### Setting 60 timestep as features and 1 as output"
   ]
  },
  {
   "cell_type": "code",
   "execution_count": null,
   "metadata": {
    "id": "9qm_fYjG71JC"
   },
   "outputs": [],
   "source": [
    "X_train = []\n",
    "y_train = []\n",
    "for i in range(60, 1259):\n",
    "    X_train.append(training_set_scaled[i-60:i, 0])\n",
    "    y_train.append(training_set_scaled[i, 0])\n",
    "X_train, y_train = np.array(X_train), np.array(y_train)"
   ]
  },
  {
   "cell_type": "code",
   "execution_count": null,
   "metadata": {
    "colab": {
     "base_uri": "https://localhost:8080/"
    },
    "id": "YQExZoIWVeuT",
    "outputId": "e232024b-c691-40d0-e4ff-229f2fe60592"
   },
   "outputs": [
    {
     "data": {
      "text/plain": [
       "array([0.35617165, 0.37509997, 0.36416955, ..., 0.19994669, 0.2279392 ,\n",
       "       0.23033856])"
      ]
     },
     "execution_count": 11,
     "metadata": {
      "tags": []
     },
     "output_type": "execute_result"
    }
   ],
   "source": [
    "y_train"
   ]
  },
  {
   "cell_type": "markdown",
   "metadata": {},
   "source": [
    "### Reshaping the feature"
   ]
  },
  {
   "cell_type": "code",
   "execution_count": null,
   "metadata": {
    "id": "B_ADFNzi77Ja"
   },
   "outputs": [],
   "source": [
    "# Reshaping\n",
    "X_train = np.reshape(X_train, (X_train.shape[0], X_train.shape[1], 1))\n"
   ]
  },
  {
   "cell_type": "markdown",
   "metadata": {},
   "source": [
    "### Import deep learning models"
   ]
  },
  {
   "cell_type": "code",
   "execution_count": null,
   "metadata": {
    "id": "HVljE9e58O43"
   },
   "outputs": [],
   "source": [
    "# Importing the Keras libraries and packages\n",
    "from keras.models import Sequential\n",
    "from keras.layers import Dense\n",
    "from keras.layers import LSTM\n",
    "from keras.layers import Dropout"
   ]
  },
  {
   "cell_type": "markdown",
   "metadata": {},
   "source": [
    "### Defining the model"
   ]
  },
  {
   "cell_type": "code",
   "execution_count": null,
   "metadata": {
    "id": "bzImosk97_Gy"
   },
   "outputs": [],
   "source": [
    "regressor = Sequential()\n",
    "\n",
    "# Adding the first LSTM layer and some Dropout regularisation\n",
    "regressor.add(LSTM(units = 80, return_sequences = True, input_shape = (X_train.shape[1], 1)))\n",
    "regressor.add(Dropout(0.2))\n",
    "\n",
    "# Adding a second LSTM layer and some Dropout regularisation\n",
    "regressor.add(LSTM(units = 80, return_sequences = True))\n",
    "regressor.add(Dropout(0.2))\n",
    "\n",
    "# Adding a third LSTM layer and some Dropout regularisation\n",
    "regressor.add(LSTM(units = 80, return_sequences = True))\n",
    "regressor.add(Dropout(0.2))\n",
    "\n",
    "# Adding a fourth LSTM layer and some Dropout regularisation\n",
    "regressor.add(LSTM(units = 80))\n",
    "regressor.add(Dropout(0.2))\n",
    "\n",
    "# Adding the output layer\n",
    "regressor.add(Dense(units = 1))\n",
    "\n",
    "# Compiling the RNN\n",
    "regressor.compile(optimizer = 'adam', loss = 'mean_squared_error')"
   ]
  },
  {
   "cell_type": "markdown",
   "metadata": {},
   "source": [
    "### Running the model"
   ]
  },
  {
   "cell_type": "code",
   "execution_count": null,
   "metadata": {
    "colab": {
     "base_uri": "https://localhost:8080/"
    },
    "id": "zj0AB1FW8NUK",
    "outputId": "d53bea4e-cd0d-4fe4-f242-88a178797d5d"
   },
   "outputs": [
    {
     "name": "stdout",
     "output_type": "stream",
     "text": [
      "Epoch 1/200\n",
      "38/38 [==============================] - 6s 154ms/step - loss: 5.8331e-04\n",
      "Epoch 2/200\n",
      "38/38 [==============================] - 6s 153ms/step - loss: 5.3356e-04\n",
      "Epoch 3/200\n",
      "38/38 [==============================] - 6s 153ms/step - loss: 6.8412e-04\n",
      "Epoch 4/200\n",
      "38/38 [==============================] - 6s 154ms/step - loss: 6.2960e-04\n",
      "Epoch 5/200\n",
      "38/38 [==============================] - 6s 154ms/step - loss: 6.3754e-04\n",
      "Epoch 6/200\n",
      "38/38 [==============================] - 6s 153ms/step - loss: 6.4044e-04\n",
      "Epoch 7/200\n",
      "38/38 [==============================] - 6s 154ms/step - loss: 6.7502e-04\n",
      "Epoch 8/200\n",
      "38/38 [==============================] - 6s 155ms/step - loss: 5.9861e-04\n",
      "Epoch 9/200\n",
      "38/38 [==============================] - 6s 154ms/step - loss: 6.1740e-04\n",
      "Epoch 10/200\n",
      "38/38 [==============================] - 6s 154ms/step - loss: 6.4543e-04\n",
      "Epoch 11/200\n",
      "38/38 [==============================] - 6s 154ms/step - loss: 6.7061e-04\n",
      "Epoch 12/200\n",
      "38/38 [==============================] - 6s 152ms/step - loss: 6.4960e-04\n",
      "Epoch 13/200\n",
      "38/38 [==============================] - 6s 151ms/step - loss: 5.8172e-04\n",
      "Epoch 14/200\n",
      "38/38 [==============================] - 6s 153ms/step - loss: 6.6115e-04\n",
      "Epoch 15/200\n",
      "38/38 [==============================] - 6s 153ms/step - loss: 5.8342e-04\n",
      "Epoch 16/200\n",
      "38/38 [==============================] - 6s 153ms/step - loss: 6.8088e-04\n",
      "Epoch 17/200\n",
      "38/38 [==============================] - 6s 153ms/step - loss: 7.4144e-04\n",
      "Epoch 18/200\n",
      "38/38 [==============================] - 6s 152ms/step - loss: 6.8556e-04\n",
      "Epoch 19/200\n",
      "38/38 [==============================] - 6s 150ms/step - loss: 5.8550e-04\n",
      "Epoch 20/200\n",
      "38/38 [==============================] - 6s 153ms/step - loss: 6.4160e-04\n",
      "Epoch 21/200\n",
      "38/38 [==============================] - 6s 151ms/step - loss: 5.8664e-04\n",
      "Epoch 22/200\n",
      "38/38 [==============================] - 6s 152ms/step - loss: 6.5203e-04\n",
      "Epoch 23/200\n",
      "38/38 [==============================] - 6s 153ms/step - loss: 6.9605e-04\n",
      "Epoch 24/200\n",
      "38/38 [==============================] - 6s 150ms/step - loss: 6.5540e-04\n",
      "Epoch 25/200\n",
      "38/38 [==============================] - 6s 152ms/step - loss: 6.0595e-04\n",
      "Epoch 26/200\n",
      "38/38 [==============================] - 6s 149ms/step - loss: 6.6789e-04\n",
      "Epoch 27/200\n",
      "38/38 [==============================] - 6s 152ms/step - loss: 6.3715e-04\n",
      "Epoch 28/200\n",
      "38/38 [==============================] - 6s 151ms/step - loss: 7.2573e-04\n",
      "Epoch 29/200\n",
      "38/38 [==============================] - 6s 153ms/step - loss: 5.8121e-04\n",
      "Epoch 30/200\n",
      "38/38 [==============================] - 6s 151ms/step - loss: 6.0605e-04\n",
      "Epoch 31/200\n",
      "38/38 [==============================] - 6s 151ms/step - loss: 5.5181e-04\n",
      "Epoch 32/200\n",
      "38/38 [==============================] - 6s 160ms/step - loss: 5.8276e-04\n",
      "Epoch 33/200\n",
      "38/38 [==============================] - 7s 173ms/step - loss: 5.6156e-04\n",
      "Epoch 34/200\n",
      "38/38 [==============================] - 6s 156ms/step - loss: 5.4730e-04\n",
      "Epoch 35/200\n",
      "38/38 [==============================] - 6s 154ms/step - loss: 5.3875e-04\n",
      "Epoch 36/200\n",
      "38/38 [==============================] - 6s 155ms/step - loss: 6.3251e-04\n",
      "Epoch 37/200\n",
      "38/38 [==============================] - 6s 154ms/step - loss: 6.1569e-04\n",
      "Epoch 38/200\n",
      "38/38 [==============================] - 8s 206ms/step - loss: 6.0024e-04\n",
      "Epoch 39/200\n",
      "38/38 [==============================] - 8s 211ms/step - loss: 7.6033e-04\n",
      "Epoch 40/200\n",
      "38/38 [==============================] - 6s 152ms/step - loss: 7.2823e-04\n",
      "Epoch 41/200\n",
      "38/38 [==============================] - 6s 152ms/step - loss: 6.0824e-04\n",
      "Epoch 42/200\n",
      "38/38 [==============================] - 6s 152ms/step - loss: 7.1639e-04\n",
      "Epoch 43/200\n",
      "38/38 [==============================] - 6s 152ms/step - loss: 6.1097e-04\n",
      "Epoch 44/200\n",
      "38/38 [==============================] - 6s 152ms/step - loss: 5.9347e-04\n",
      "Epoch 45/200\n",
      "38/38 [==============================] - 6s 152ms/step - loss: 5.4712e-04\n",
      "Epoch 46/200\n",
      "38/38 [==============================] - 6s 151ms/step - loss: 6.3345e-04\n",
      "Epoch 47/200\n",
      "38/38 [==============================] - 6s 151ms/step - loss: 5.8556e-04\n",
      "Epoch 48/200\n",
      "38/38 [==============================] - 6s 152ms/step - loss: 8.0536e-04\n",
      "Epoch 49/200\n",
      "38/38 [==============================] - 6s 154ms/step - loss: 5.9933e-04\n",
      "Epoch 50/200\n",
      "38/38 [==============================] - 6s 153ms/step - loss: 6.3132e-04\n",
      "Epoch 51/200\n",
      "38/38 [==============================] - 6s 152ms/step - loss: 6.3096e-04\n",
      "Epoch 52/200\n",
      "38/38 [==============================] - 6s 152ms/step - loss: 5.7313e-04\n",
      "Epoch 53/200\n",
      "38/38 [==============================] - 6s 150ms/step - loss: 5.6133e-04\n",
      "Epoch 54/200\n",
      "38/38 [==============================] - 6s 151ms/step - loss: 5.8637e-04\n",
      "Epoch 55/200\n",
      "38/38 [==============================] - 6s 150ms/step - loss: 5.7203e-04\n",
      "Epoch 56/200\n",
      "38/38 [==============================] - 6s 153ms/step - loss: 5.9705e-04\n",
      "Epoch 57/200\n",
      "38/38 [==============================] - 6s 152ms/step - loss: 6.1537e-04\n",
      "Epoch 58/200\n",
      "38/38 [==============================] - 6s 154ms/step - loss: 7.5041e-04\n",
      "Epoch 59/200\n",
      "38/38 [==============================] - 6s 152ms/step - loss: 6.4580e-04\n",
      "Epoch 60/200\n",
      "38/38 [==============================] - 6s 152ms/step - loss: 6.4621e-04\n",
      "Epoch 61/200\n",
      "38/38 [==============================] - 6s 152ms/step - loss: 6.2237e-04\n",
      "Epoch 62/200\n",
      "38/38 [==============================] - 6s 150ms/step - loss: 6.4612e-04\n",
      "Epoch 63/200\n",
      "38/38 [==============================] - 6s 149ms/step - loss: 5.9842e-04\n",
      "Epoch 64/200\n",
      "38/38 [==============================] - 6s 150ms/step - loss: 5.7903e-04\n",
      "Epoch 65/200\n",
      "38/38 [==============================] - 6s 152ms/step - loss: 5.6510e-04\n",
      "Epoch 66/200\n",
      "38/38 [==============================] - 6s 152ms/step - loss: 5.4171e-04\n",
      "Epoch 67/200\n",
      "38/38 [==============================] - 6s 152ms/step - loss: 5.5867e-04\n",
      "Epoch 68/200\n",
      "38/38 [==============================] - 6s 153ms/step - loss: 6.3038e-04\n",
      "Epoch 69/200\n",
      "38/38 [==============================] - 6s 151ms/step - loss: 5.3186e-04\n",
      "Epoch 70/200\n",
      "38/38 [==============================] - 6s 152ms/step - loss: 6.1173e-04\n",
      "Epoch 71/200\n",
      "38/38 [==============================] - 6s 153ms/step - loss: 6.2461e-04\n",
      "Epoch 72/200\n",
      "38/38 [==============================] - 6s 151ms/step - loss: 5.7984e-04\n",
      "Epoch 73/200\n",
      "38/38 [==============================] - 6s 153ms/step - loss: 5.5104e-04\n",
      "Epoch 74/200\n",
      "38/38 [==============================] - 6s 152ms/step - loss: 6.6160e-04\n",
      "Epoch 75/200\n",
      "38/38 [==============================] - 6s 155ms/step - loss: 6.4091e-04\n",
      "Epoch 76/200\n",
      "38/38 [==============================] - 6s 156ms/step - loss: 6.0593e-04\n",
      "Epoch 77/200\n",
      "38/38 [==============================] - 6s 157ms/step - loss: 6.0542e-04\n",
      "Epoch 78/200\n",
      "38/38 [==============================] - 6s 155ms/step - loss: 5.5689e-04\n",
      "Epoch 79/200\n",
      "38/38 [==============================] - 6s 154ms/step - loss: 5.1029e-04\n",
      "Epoch 80/200\n",
      "38/38 [==============================] - 6s 153ms/step - loss: 5.5082e-04\n",
      "Epoch 81/200\n",
      "38/38 [==============================] - 6s 155ms/step - loss: 6.9704e-04\n",
      "Epoch 82/200\n",
      "38/38 [==============================] - 6s 152ms/step - loss: 5.7303e-04\n",
      "Epoch 83/200\n",
      "38/38 [==============================] - 6s 154ms/step - loss: 6.5836e-04\n",
      "Epoch 84/200\n",
      "38/38 [==============================] - 6s 163ms/step - loss: 5.7765e-04\n",
      "Epoch 85/200\n",
      "38/38 [==============================] - 6s 161ms/step - loss: 5.9463e-04\n",
      "Epoch 86/200\n",
      "38/38 [==============================] - 6s 152ms/step - loss: 5.7292e-04\n",
      "Epoch 87/200\n",
      "38/38 [==============================] - 6s 155ms/step - loss: 5.2561e-04\n",
      "Epoch 88/200\n",
      "38/38 [==============================] - 6s 152ms/step - loss: 6.0670e-04\n",
      "Epoch 89/200\n",
      "38/38 [==============================] - 6s 163ms/step - loss: 5.4656e-04\n",
      "Epoch 90/200\n",
      "38/38 [==============================] - 6s 163ms/step - loss: 5.1184e-04\n",
      "Epoch 91/200\n",
      "38/38 [==============================] - 6s 153ms/step - loss: 6.0809e-04\n",
      "Epoch 92/200\n",
      "38/38 [==============================] - 6s 152ms/step - loss: 6.1824e-04\n",
      "Epoch 93/200\n",
      "38/38 [==============================] - 6s 152ms/step - loss: 6.3555e-04\n",
      "Epoch 94/200\n",
      "38/38 [==============================] - 6s 153ms/step - loss: 5.7358e-04\n",
      "Epoch 95/200\n",
      "38/38 [==============================] - 6s 154ms/step - loss: 6.1540e-04\n",
      "Epoch 96/200\n",
      "38/38 [==============================] - 6s 153ms/step - loss: 5.4193e-04\n",
      "Epoch 97/200\n",
      "38/38 [==============================] - 6s 152ms/step - loss: 5.4292e-04\n",
      "Epoch 98/200\n",
      "38/38 [==============================] - 6s 154ms/step - loss: 5.6557e-04\n",
      "Epoch 99/200\n",
      "38/38 [==============================] - 6s 153ms/step - loss: 6.1728e-04\n",
      "Epoch 100/200\n",
      "38/38 [==============================] - 6s 153ms/step - loss: 5.3335e-04\n",
      "Epoch 101/200\n",
      "38/38 [==============================] - 6s 153ms/step - loss: 5.2567e-04\n",
      "Epoch 102/200\n",
      "38/38 [==============================] - 6s 152ms/step - loss: 5.9381e-04\n",
      "Epoch 103/200\n",
      "38/38 [==============================] - 6s 151ms/step - loss: 5.9914e-04\n",
      "Epoch 104/200\n",
      "38/38 [==============================] - 6s 151ms/step - loss: 7.3869e-04\n",
      "Epoch 105/200\n",
      "38/38 [==============================] - 6s 153ms/step - loss: 5.4249e-04\n",
      "Epoch 106/200\n",
      "38/38 [==============================] - 6s 153ms/step - loss: 5.6288e-04\n",
      "Epoch 107/200\n",
      "38/38 [==============================] - 6s 154ms/step - loss: 6.4443e-04\n",
      "Epoch 108/200\n",
      "38/38 [==============================] - 6s 154ms/step - loss: 6.6986e-04\n",
      "Epoch 109/200\n",
      "38/38 [==============================] - 6s 152ms/step - loss: 6.3500e-04\n",
      "Epoch 110/200\n",
      "38/38 [==============================] - 6s 153ms/step - loss: 6.3379e-04\n",
      "Epoch 111/200\n",
      "38/38 [==============================] - 6s 155ms/step - loss: 5.1118e-04\n",
      "Epoch 112/200\n",
      "38/38 [==============================] - 6s 151ms/step - loss: 5.2408e-04\n",
      "Epoch 113/200\n",
      "38/38 [==============================] - 6s 155ms/step - loss: 5.7521e-04\n",
      "Epoch 114/200\n",
      "38/38 [==============================] - 6s 153ms/step - loss: 6.1946e-04\n",
      "Epoch 115/200\n",
      "38/38 [==============================] - 6s 156ms/step - loss: 5.4580e-04\n",
      "Epoch 116/200\n",
      "38/38 [==============================] - 6s 153ms/step - loss: 5.5439e-04\n",
      "Epoch 117/200\n",
      "38/38 [==============================] - 6s 153ms/step - loss: 6.0191e-04\n",
      "Epoch 118/200\n",
      "38/38 [==============================] - 6s 153ms/step - loss: 5.7379e-04\n",
      "Epoch 119/200\n",
      "38/38 [==============================] - 6s 154ms/step - loss: 6.6764e-04\n",
      "Epoch 120/200\n",
      "38/38 [==============================] - 6s 153ms/step - loss: 5.5738e-04\n",
      "Epoch 121/200\n",
      "38/38 [==============================] - 6s 155ms/step - loss: 6.4117e-04\n",
      "Epoch 122/200\n",
      "38/38 [==============================] - 6s 153ms/step - loss: 5.6961e-04\n",
      "Epoch 123/200\n",
      "38/38 [==============================] - 6s 150ms/step - loss: 6.2304e-04\n",
      "Epoch 124/200\n",
      "38/38 [==============================] - 6s 153ms/step - loss: 5.7058e-04\n",
      "Epoch 125/200\n",
      "38/38 [==============================] - 6s 153ms/step - loss: 5.6631e-04\n",
      "Epoch 126/200\n",
      "38/38 [==============================] - 6s 154ms/step - loss: 6.1886e-04\n",
      "Epoch 127/200\n",
      "38/38 [==============================] - 6s 155ms/step - loss: 6.5846e-04\n",
      "Epoch 128/200\n",
      "38/38 [==============================] - 6s 154ms/step - loss: 5.8718e-04\n",
      "Epoch 129/200\n",
      "38/38 [==============================] - 6s 152ms/step - loss: 6.0223e-04\n",
      "Epoch 130/200\n",
      "38/38 [==============================] - 6s 152ms/step - loss: 5.0848e-04\n",
      "Epoch 131/200\n",
      "38/38 [==============================] - 6s 153ms/step - loss: 5.7075e-04\n",
      "Epoch 132/200\n",
      "38/38 [==============================] - 6s 155ms/step - loss: 6.1107e-04\n",
      "Epoch 133/200\n",
      "38/38 [==============================] - 6s 153ms/step - loss: 5.2221e-04\n",
      "Epoch 134/200\n",
      "38/38 [==============================] - 6s 151ms/step - loss: 5.4760e-04\n",
      "Epoch 135/200\n",
      "38/38 [==============================] - 6s 155ms/step - loss: 5.2314e-04\n",
      "Epoch 136/200\n",
      "38/38 [==============================] - 6s 166ms/step - loss: 5.5740e-04\n",
      "Epoch 137/200\n",
      "38/38 [==============================] - 6s 161ms/step - loss: 5.1988e-04\n",
      "Epoch 138/200\n",
      "38/38 [==============================] - 6s 168ms/step - loss: 5.0745e-04\n",
      "Epoch 139/200\n",
      "38/38 [==============================] - 6s 162ms/step - loss: 5.3718e-04\n",
      "Epoch 140/200\n",
      "38/38 [==============================] - 6s 160ms/step - loss: 4.7968e-04\n",
      "Epoch 141/200\n",
      "38/38 [==============================] - 6s 161ms/step - loss: 5.4113e-04\n",
      "Epoch 142/200\n",
      "38/38 [==============================] - 6s 152ms/step - loss: 5.8248e-04\n",
      "Epoch 143/200\n",
      "38/38 [==============================] - 6s 152ms/step - loss: 6.0397e-04\n",
      "Epoch 144/200\n",
      "38/38 [==============================] - 6s 153ms/step - loss: 5.1159e-04\n",
      "Epoch 145/200\n",
      "38/38 [==============================] - 6s 152ms/step - loss: 5.5796e-04\n",
      "Epoch 146/200\n",
      "38/38 [==============================] - 6s 153ms/step - loss: 5.1428e-04\n",
      "Epoch 147/200\n",
      "38/38 [==============================] - 6s 152ms/step - loss: 6.7389e-04\n",
      "Epoch 148/200\n",
      "38/38 [==============================] - 6s 152ms/step - loss: 6.8979e-04\n",
      "Epoch 149/200\n",
      "38/38 [==============================] - 6s 150ms/step - loss: 5.6338e-04\n",
      "Epoch 150/200\n",
      "38/38 [==============================] - 6s 150ms/step - loss: 4.9219e-04\n",
      "Epoch 151/200\n",
      "38/38 [==============================] - 6s 150ms/step - loss: 6.0311e-04\n",
      "Epoch 152/200\n",
      "38/38 [==============================] - 6s 149ms/step - loss: 5.3147e-04\n",
      "Epoch 153/200\n",
      "38/38 [==============================] - 6s 151ms/step - loss: 6.7331e-04\n",
      "Epoch 154/200\n",
      "38/38 [==============================] - 6s 150ms/step - loss: 6.3446e-04\n",
      "Epoch 155/200\n",
      "38/38 [==============================] - 6s 152ms/step - loss: 5.4512e-04\n",
      "Epoch 156/200\n",
      "38/38 [==============================] - 6s 153ms/step - loss: 5.8932e-04\n",
      "Epoch 157/200\n",
      "38/38 [==============================] - 6s 150ms/step - loss: 6.6993e-04\n",
      "Epoch 158/200\n",
      "38/38 [==============================] - 6s 152ms/step - loss: 6.1644e-04\n",
      "Epoch 159/200\n",
      "38/38 [==============================] - 6s 151ms/step - loss: 5.8885e-04\n",
      "Epoch 160/200\n",
      "38/38 [==============================] - 6s 152ms/step - loss: 5.2768e-04\n",
      "Epoch 161/200\n",
      "38/38 [==============================] - 6s 152ms/step - loss: 5.3109e-04\n",
      "Epoch 162/200\n",
      "38/38 [==============================] - 6s 152ms/step - loss: 5.1050e-04\n",
      "Epoch 163/200\n",
      "38/38 [==============================] - 6s 150ms/step - loss: 5.8641e-04\n",
      "Epoch 164/200\n",
      "38/38 [==============================] - 6s 153ms/step - loss: 4.8574e-04\n",
      "Epoch 165/200\n",
      "38/38 [==============================] - 6s 152ms/step - loss: 7.0762e-04\n",
      "Epoch 166/200\n",
      "38/38 [==============================] - 6s 153ms/step - loss: 5.4176e-04\n",
      "Epoch 167/200\n",
      "38/38 [==============================] - 6s 156ms/step - loss: 6.0696e-04\n",
      "Epoch 168/200\n",
      "38/38 [==============================] - 6s 152ms/step - loss: 5.3997e-04\n",
      "Epoch 169/200\n",
      "38/38 [==============================] - 6s 150ms/step - loss: 5.4702e-04\n",
      "Epoch 170/200\n",
      "38/38 [==============================] - 6s 154ms/step - loss: 6.2596e-04\n",
      "Epoch 171/200\n",
      "38/38 [==============================] - 6s 153ms/step - loss: 5.3329e-04\n",
      "Epoch 172/200\n",
      "38/38 [==============================] - 6s 153ms/step - loss: 6.0149e-04\n",
      "Epoch 173/200\n",
      "38/38 [==============================] - 6s 153ms/step - loss: 5.3344e-04\n",
      "Epoch 174/200\n",
      "38/38 [==============================] - 6s 152ms/step - loss: 6.0628e-04\n",
      "Epoch 175/200\n",
      "38/38 [==============================] - 6s 152ms/step - loss: 5.3539e-04\n",
      "Epoch 176/200\n",
      "38/38 [==============================] - 7s 186ms/step - loss: 5.1630e-04\n",
      "Epoch 177/200\n",
      "38/38 [==============================] - 8s 213ms/step - loss: 5.6129e-04\n",
      "Epoch 178/200\n",
      "38/38 [==============================] - 6s 151ms/step - loss: 5.6365e-04\n",
      "Epoch 179/200\n",
      "38/38 [==============================] - 6s 152ms/step - loss: 5.1956e-04\n",
      "Epoch 180/200\n",
      "38/38 [==============================] - 6s 153ms/step - loss: 5.6114e-04\n",
      "Epoch 181/200\n",
      "38/38 [==============================] - 6s 154ms/step - loss: 5.7261e-04\n",
      "Epoch 182/200\n",
      "38/38 [==============================] - 6s 155ms/step - loss: 5.3279e-04\n",
      "Epoch 183/200\n",
      "38/38 [==============================] - 6s 152ms/step - loss: 5.7937e-04\n",
      "Epoch 184/200\n",
      "38/38 [==============================] - 6s 153ms/step - loss: 5.7079e-04\n",
      "Epoch 185/200\n",
      "38/38 [==============================] - 6s 153ms/step - loss: 5.7187e-04\n",
      "Epoch 186/200\n",
      "38/38 [==============================] - 6s 159ms/step - loss: 5.6271e-04\n",
      "Epoch 187/200\n",
      "38/38 [==============================] - 6s 154ms/step - loss: 5.7504e-04\n",
      "Epoch 188/200\n",
      "38/38 [==============================] - 6s 157ms/step - loss: 5.6545e-04\n",
      "Epoch 189/200\n",
      "38/38 [==============================] - 7s 177ms/step - loss: 5.6186e-04\n",
      "Epoch 190/200\n",
      "38/38 [==============================] - 7s 172ms/step - loss: 5.3048e-04\n",
      "Epoch 191/200\n",
      "38/38 [==============================] - 7s 178ms/step - loss: 5.6645e-04\n",
      "Epoch 192/200\n",
      "38/38 [==============================] - 6s 154ms/step - loss: 5.4781e-04\n",
      "Epoch 193/200\n",
      "38/38 [==============================] - 6s 151ms/step - loss: 5.0741e-04\n",
      "Epoch 194/200\n",
      "38/38 [==============================] - 6s 153ms/step - loss: 5.8081e-04\n",
      "Epoch 195/200\n",
      "38/38 [==============================] - 6s 153ms/step - loss: 5.4924e-04\n",
      "Epoch 196/200\n",
      "38/38 [==============================] - 6s 154ms/step - loss: 5.6941e-04\n",
      "Epoch 197/200\n",
      "38/38 [==============================] - 6s 153ms/step - loss: 5.2069e-04\n",
      "Epoch 198/200\n",
      "38/38 [==============================] - 6s 153ms/step - loss: 4.8060e-04\n",
      "Epoch 199/200\n",
      "38/38 [==============================] - 6s 153ms/step - loss: 5.2034e-04\n",
      "Epoch 200/200\n",
      "38/38 [==============================] - 6s 155ms/step - loss: 5.3303e-04\n"
     ]
    },
    {
     "data": {
      "text/plain": [
       "<tensorflow.python.keras.callbacks.History at 0x7f48dc6886a0>"
      ]
     },
     "execution_count": 16,
     "metadata": {
      "tags": []
     },
     "output_type": "execute_result"
    }
   ],
   "source": [
    "regressor.fit(X_train, y_train, epochs = 200, batch_size = 32)"
   ]
  },
  {
   "cell_type": "markdown",
   "metadata": {},
   "source": [
    "### Setting test data"
   ]
  },
  {
   "cell_type": "code",
   "execution_count": null,
   "metadata": {
    "id": "rjXEPu6qIHpB"
   },
   "outputs": [],
   "source": [
    "dataset_test=dataset_train.tail(180)"
   ]
  },
  {
   "cell_type": "code",
   "execution_count": null,
   "metadata": {
    "colab": {
     "base_uri": "https://localhost:8080/"
    },
    "id": "8t2B2-vOM3YB",
    "outputId": "7dee7d91-1177-495a-a9e2-3d412ef33d6b"
   },
   "outputs": [
    {
     "data": {
      "text/plain": [
       "(180, 7)"
      ]
     },
     "execution_count": 18,
     "metadata": {
      "tags": []
     },
     "output_type": "execute_result"
    }
   ],
   "source": [
    "dataset_test.shape"
   ]
  },
  {
   "cell_type": "code",
   "execution_count": null,
   "metadata": {
    "id": "q1_u7mX7KFR1"
   },
   "outputs": [],
   "source": [
    "real_stock_price = dataset_test.iloc[:, 4:5].values"
   ]
  },
  {
   "cell_type": "code",
   "execution_count": null,
   "metadata": {
    "id": "At-D7WqkKHz2"
   },
   "outputs": [],
   "source": [
    "dataset_total = pd.concat((dataset_train['Close'], dataset_test['Close']), axis = 0)\n",
    "inputs = dataset_total[len(dataset_total) - len(dataset_test) - 60:].values\n",
    "inputs = inputs.reshape(-1,1)\n",
    "inputs = sc.transform(inputs)"
   ]
  },
  {
   "cell_type": "code",
   "execution_count": null,
   "metadata": {
    "colab": {
     "base_uri": "https://localhost:8080/"
    },
    "id": "aCVWBgJqUdBY",
    "outputId": "967e0ec3-0b12-4a5f-b9f1-73a66e7467f4"
   },
   "outputs": [
    {
     "data": {
      "text/plain": [
       "(240, 1)"
      ]
     },
     "execution_count": 21,
     "metadata": {
      "tags": []
     },
     "output_type": "execute_result"
    }
   ],
   "source": [
    "inputs.shape"
   ]
  },
  {
   "cell_type": "markdown",
   "metadata": {},
   "source": [
    "### Predicting test data"
   ]
  },
  {
   "cell_type": "code",
   "execution_count": null,
   "metadata": {
    "id": "mzrJSoiXKVEt"
   },
   "outputs": [],
   "source": [
    "X_test = []\n",
    "for i in range(60, 240):\n",
    "    X_test.append(inputs[i-60:i, 0])\n",
    "X_test = np.array(X_test)\n",
    "X_test = np.reshape(X_test, (X_test.shape[0], X_test.shape[1], 1))\n",
    "predicted_stock_price = regressor.predict(X_test)\n",
    "predicted_stock_price = sc.inverse_transform(predicted_stock_price)"
   ]
  },
  {
   "cell_type": "markdown",
   "metadata": {},
   "source": [
    "### Plotting predicted and actual test data"
   ]
  },
  {
   "cell_type": "code",
   "execution_count": null,
   "metadata": {
    "colab": {
     "base_uri": "https://localhost:8080/",
     "height": 295
    },
    "id": "6RGbv4xOKauc",
    "outputId": "a92e1a7b-1366-4a0f-e200-c4b2986b3e4d"
   },
   "outputs": [
    {
     "data": {
      "image/png": "[encoded data removed]",
      "text/plain": [
       "<Figure size 432x288 with 1 Axes>"
      ]
     },
     "metadata": {
      "needs_background": "light",
      "tags": []
     },
     "output_type": "display_data"
    }
   ],
   "source": [
    "plt.plot(real_stock_price, color = 'red', label = 'Real HSBC Stock Price')\n",
    "plt.plot(predicted_stock_price, color = 'blue', label = 'Predicted HSBC Stock Price')\n",
    "plt.title('HSBC Stock Price Prediction')\n",
    "plt.xlabel('Time')\n",
    "plt.ylabel('HSBC Stock Price')\n",
    "plt.legend()\n",
    "plt.show()"
   ]
  },
  {
   "cell_type": "markdown",
   "metadata": {},
   "source": [
    "### Plotting train,test and prediction data"
   ]
  },
  {
   "cell_type": "code",
   "execution_count": null,
   "metadata": {
    "colab": {
     "base_uri": "https://localhost:8080/",
     "height": 350
    },
    "id": "ufFsRHF_Kdzt",
    "outputId": "5327dc29-26e3-447f-d236-8f4aa93e1d34"
   },
   "outputs": [
    {
     "data": {
      "image/png": "[encoded data removed]",
      "text/plain": [
       "<Figure size 720x360 with 1 Axes>"
      ]
     },
     "metadata": {
      "needs_background": "light",
      "tags": []
     },
     "output_type": "display_data"
    }
   ],
   "source": [
    "pred=pd.DataFrame(predicted_stock_price)\n",
    "plt.figure(figsize=(10, 5))\n",
    "plt.plot(dataset_train['Date'], dataset_train['Close'],label='Train')\n",
    "plt.plot(dataset_test['Date'], dataset_test['Close'], label='Test',color='r')\n",
    "plt.plot(dataset_test['Date'], predicted_stock_price, label='Prediction',color='g')\n",
    "plt.title(\"Prediction For 180 days\")\n",
    "plt.xlabel(\"Time\")\n",
    "plt.ylabel(\"Stock Price\")\n",
    "plt.legend(loc='best')\n",
    "plt.show()"
   ]
  },
  {
   "cell_type": "code",
   "execution_count": null,
   "metadata": {
    "colab": {
     "base_uri": "https://localhost:8080/",
     "height": 419
    },
    "id": "GdFGaGwEMgke",
    "outputId": "05f4c4af-c1f8-4c0a-ed23-4831e169d4bb"
   },
   "outputs": [
    {
     "data": {
      "text/html": [
       "<div>\n",
       "<style scoped>\n",
       "    .dataframe tbody tr th:only-of-type {\n",
       "        vertical-align: middle;\n",
       "    }\n",
       "\n",
       "    .dataframe tbody tr th {\n",
       "        vertical-align: top;\n",
       "    }\n",
       "\n",
       "    .dataframe thead th {\n",
       "        text-align: right;\n",
       "    }\n",
       "</style>\n",
       "<table border=\"1\" class=\"dataframe\">\n",
       "  <thead>\n",
       "    <tr style=\"text-align: right;\">\n",
       "      <th></th>\n",
       "      <th>0</th>\n",
       "    </tr>\n",
       "  </thead>\n",
       "  <tbody>\n",
       "    <tr>\n",
       "      <th>0</th>\n",
       "      <td>26.608925</td>\n",
       "    </tr>\n",
       "    <tr>\n",
       "      <th>1</th>\n",
       "      <td>29.102072</td>\n",
       "    </tr>\n",
       "    <tr>\n",
       "      <th>2</th>\n",
       "      <td>28.255751</td>\n",
       "    </tr>\n",
       "    <tr>\n",
       "      <th>3</th>\n",
       "      <td>28.882040</td>\n",
       "    </tr>\n",
       "    <tr>\n",
       "      <th>4</th>\n",
       "      <td>28.456137</td>\n",
       "    </tr>\n",
       "    <tr>\n",
       "      <th>...</th>\n",
       "      <td>...</td>\n",
       "    </tr>\n",
       "    <tr>\n",
       "      <th>175</th>\n",
       "      <td>24.930998</td>\n",
       "    </tr>\n",
       "    <tr>\n",
       "      <th>176</th>\n",
       "      <td>25.134912</td>\n",
       "    </tr>\n",
       "    <tr>\n",
       "      <th>177</th>\n",
       "      <td>25.159018</td>\n",
       "    </tr>\n",
       "    <tr>\n",
       "      <th>178</th>\n",
       "      <td>25.409838</td>\n",
       "    </tr>\n",
       "    <tr>\n",
       "      <th>179</th>\n",
       "      <td>26.320196</td>\n",
       "    </tr>\n",
       "  </tbody>\n",
       "</table>\n",
       "<p>180 rows × 1 columns</p>\n",
       "</div>"
      ],
      "text/plain": [
       "             0\n",
       "0    26.608925\n",
       "1    29.102072\n",
       "2    28.255751\n",
       "3    28.882040\n",
       "4    28.456137\n",
       "..         ...\n",
       "175  24.930998\n",
       "176  25.134912\n",
       "177  25.159018\n",
       "178  25.409838\n",
       "179  26.320196\n",
       "\n",
       "[180 rows x 1 columns]"
      ]
     },
     "execution_count": 25,
     "metadata": {
      "tags": []
     },
     "output_type": "execute_result"
    }
   ],
   "source": [
    "pred"
   ]
  },
  {
   "cell_type": "markdown",
   "metadata": {},
   "source": [
    "### Evaluating the model"
   ]
  },
  {
   "cell_type": "code",
   "execution_count": null,
   "metadata": {
    "id": "lp65VfQ0QkY-"
   },
   "outputs": [],
   "source": [
    "from sklearn import metrics"
   ]
  },
  {
   "cell_type": "code",
   "execution_count": null,
   "metadata": {
    "id": "HNAVl5FaTrAh"
   },
   "outputs": [],
   "source": [
    "R_Score =metrics.r2_score(dataset_test['Close'],predicted_stock_price)"
   ]
  },
  {
   "cell_type": "code",
   "execution_count": null,
   "metadata": {
    "colab": {
     "base_uri": "https://localhost:8080/"
    },
    "id": "hD7IxurZT_UI",
    "outputId": "9b83a14a-58b2-4406-9afd-f67695573e41"
   },
   "outputs": [
    {
     "name": "stdout",
     "output_type": "stream",
     "text": [
      "Test Score: 0.92 Accuracy\n"
     ]
    }
   ],
   "source": [
    "#R_Score = metrics.mean_squared_error(testY[0], testPredict[:,0]) ** .5\n",
    "print('Test Score: %.2f Accuracy' % (R_Score))\n"
   ]
  },
  {
   "cell_type": "code",
   "execution_count": null,
   "metadata": {
    "id": "ndFyYgNDXVHQ"
   },
   "outputs": [],
   "source": []
  }
 ],
 "metadata": {
  "colab": {
   "collapsed_sections": [],
   "name": "HSBC_LSTM .ipynb",
   "provenance": []
  },
  "kernelspec": {
   "display_name": "Python 3",
   "language": "python",
   "name": "python3"
  },
  "language_info": {
   "codemirror_mode": {
    "name": "ipython",
    "version": 3
   },
   "file_extension": ".py",
   "mimetype": "text/x-python",
   "name": "python",
   "nbconvert_exporter": "python",
   "pygments_lexer": "ipython3",
   "version": "3.6.10"
  }
 },
 "nbformat": 4,
 "nbformat_minor": 1
}
