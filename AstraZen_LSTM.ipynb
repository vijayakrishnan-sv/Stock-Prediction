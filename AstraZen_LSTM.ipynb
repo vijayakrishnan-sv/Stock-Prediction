{
 "cells": [
  {
   "cell_type": "markdown",
   "metadata": {
    "id": "OQD9SIW2buc6"
   },
   "source": [
    "### Importing the libraries"
   ]
  },
  {
   "cell_type": "code",
   "execution_count": 1,
   "metadata": {
    "id": "SS-pOdCb4_hi"
   },
   "outputs": [],
   "source": [
    "import numpy as np\n",
    "import pandas as pd\n",
    "import matplotlib.pyplot as plt\n",
    "%matplotlib inline"
   ]
  },
  {
   "cell_type": "markdown",
   "metadata": {},
   "source": [
    "### Importing the data"
   ]
  },
  {
   "cell_type": "code",
   "execution_count": 2,
   "metadata": {
    "id": "XIG0DDPN7U1y"
   },
   "outputs": [],
   "source": [
    "uploaded = files.upload()\n",
    "dataset_train= pd.read_csv(io.BytesIO(uploaded['AZN.csv']))"
   ]
  },
  {
   "cell_type": "code",
   "execution_count": 3,
   "metadata": {
    "colab": {
     "base_uri": "https://localhost:8080/"
    },
    "id": "xLDTeAog7gTK",
    "outputId": "5bf9d28e-f4be-4c53-8071-0a6b189d4ad6"
   },
   "outputs": [
    {
     "data": {
      "text/plain": [
       "(1259, 7)"
      ]
     },
     "execution_count": 3,
     "metadata": {},
     "output_type": "execute_result"
    }
   ],
   "source": [
    "dataset_train.shape"
   ]
  },
  {
   "cell_type": "code",
   "execution_count": 4,
   "metadata": {
    "colab": {
     "base_uri": "https://localhost:8080/",
     "height": 419
    },
    "id": "DotZ-BOyD45E",
    "outputId": "0ccbff8c-8eb6-4be0-8fa0-617108b2ad1f"
   },
   "outputs": [
    {
     "data": {
      "text/html": [
       "<div>\n",
       "<style scoped>\n",
       "    .dataframe tbody tr th:only-of-type {\n",
       "        vertical-align: middle;\n",
       "    }\n",
       "\n",
       "    .dataframe tbody tr th {\n",
       "        vertical-align: top;\n",
       "    }\n",
       "\n",
       "    .dataframe thead th {\n",
       "        text-align: right;\n",
       "    }\n",
       "</style>\n",
       "<table border=\"1\" class=\"dataframe\">\n",
       "  <thead>\n",
       "    <tr style=\"text-align: right;\">\n",
       "      <th></th>\n",
       "      <th>Date</th>\n",
       "      <th>Open</th>\n",
       "      <th>High</th>\n",
       "      <th>Low</th>\n",
       "      <th>Close</th>\n",
       "      <th>Adj Close</th>\n",
       "      <th>Volume</th>\n",
       "    </tr>\n",
       "  </thead>\n",
       "  <tbody>\n",
       "    <tr>\n",
       "      <th>0</th>\n",
       "      <td>2015-11-27</td>\n",
       "      <td>34.160000</td>\n",
       "      <td>34.240002</td>\n",
       "      <td>34.029999</td>\n",
       "      <td>34.049999</td>\n",
       "      <td>28.057058</td>\n",
       "      <td>1252400</td>\n",
       "    </tr>\n",
       "    <tr>\n",
       "      <th>1</th>\n",
       "      <td>2015-11-30</td>\n",
       "      <td>34.189999</td>\n",
       "      <td>34.240002</td>\n",
       "      <td>34.000000</td>\n",
       "      <td>34.049999</td>\n",
       "      <td>28.057058</td>\n",
       "      <td>3776000</td>\n",
       "    </tr>\n",
       "    <tr>\n",
       "      <th>2</th>\n",
       "      <td>2015-12-01</td>\n",
       "      <td>34.330002</td>\n",
       "      <td>34.880001</td>\n",
       "      <td>34.169998</td>\n",
       "      <td>34.770000</td>\n",
       "      <td>28.650333</td>\n",
       "      <td>4550400</td>\n",
       "    </tr>\n",
       "    <tr>\n",
       "      <th>3</th>\n",
       "      <td>2015-12-02</td>\n",
       "      <td>34.740002</td>\n",
       "      <td>34.830002</td>\n",
       "      <td>34.240002</td>\n",
       "      <td>34.320000</td>\n",
       "      <td>28.279539</td>\n",
       "      <td>4100800</td>\n",
       "    </tr>\n",
       "    <tr>\n",
       "      <th>4</th>\n",
       "      <td>2015-12-03</td>\n",
       "      <td>34.360001</td>\n",
       "      <td>34.369999</td>\n",
       "      <td>33.480000</td>\n",
       "      <td>33.570000</td>\n",
       "      <td>27.661539</td>\n",
       "      <td>5124000</td>\n",
       "    </tr>\n",
       "    <tr>\n",
       "      <th>...</th>\n",
       "      <td>...</td>\n",
       "      <td>...</td>\n",
       "      <td>...</td>\n",
       "      <td>...</td>\n",
       "      <td>...</td>\n",
       "      <td>...</td>\n",
       "      <td>...</td>\n",
       "    </tr>\n",
       "    <tr>\n",
       "      <th>1254</th>\n",
       "      <td>2020-11-19</td>\n",
       "      <td>54.250000</td>\n",
       "      <td>54.250000</td>\n",
       "      <td>53.669998</td>\n",
       "      <td>54.029999</td>\n",
       "      <td>54.029999</td>\n",
       "      <td>6768200</td>\n",
       "    </tr>\n",
       "    <tr>\n",
       "      <th>1255</th>\n",
       "      <td>2020-11-20</td>\n",
       "      <td>54.880001</td>\n",
       "      <td>55.419998</td>\n",
       "      <td>54.680000</td>\n",
       "      <td>55.299999</td>\n",
       "      <td>55.299999</td>\n",
       "      <td>4306000</td>\n",
       "    </tr>\n",
       "    <tr>\n",
       "      <th>1256</th>\n",
       "      <td>2020-11-23</td>\n",
       "      <td>54.520000</td>\n",
       "      <td>54.709999</td>\n",
       "      <td>53.330002</td>\n",
       "      <td>54.700001</td>\n",
       "      <td>54.700001</td>\n",
       "      <td>13670600</td>\n",
       "    </tr>\n",
       "    <tr>\n",
       "      <th>1257</th>\n",
       "      <td>2020-11-24</td>\n",
       "      <td>54.000000</td>\n",
       "      <td>54.299999</td>\n",
       "      <td>53.520000</td>\n",
       "      <td>53.570000</td>\n",
       "      <td>53.570000</td>\n",
       "      <td>8341400</td>\n",
       "    </tr>\n",
       "    <tr>\n",
       "      <th>1258</th>\n",
       "      <td>2020-11-25</td>\n",
       "      <td>52.340000</td>\n",
       "      <td>53.090000</td>\n",
       "      <td>52.299999</td>\n",
       "      <td>52.599998</td>\n",
       "      <td>52.599998</td>\n",
       "      <td>11639400</td>\n",
       "    </tr>\n",
       "  </tbody>\n",
       "</table>\n",
       "<p>1259 rows × 7 columns</p>\n",
       "</div>"
      ],
      "text/plain": [
       "            Date       Open       High        Low      Close  Adj Close  \\\n",
       "0     2015-11-27  34.160000  34.240002  34.029999  34.049999  28.057058   \n",
       "1     2015-11-30  34.189999  34.240002  34.000000  34.049999  28.057058   \n",
       "2     2015-12-01  34.330002  34.880001  34.169998  34.770000  28.650333   \n",
       "3     2015-12-02  34.740002  34.830002  34.240002  34.320000  28.279539   \n",
       "4     2015-12-03  34.360001  34.369999  33.480000  33.570000  27.661539   \n",
       "...          ...        ...        ...        ...        ...        ...   \n",
       "1254  2020-11-19  54.250000  54.250000  53.669998  54.029999  54.029999   \n",
       "1255  2020-11-20  54.880001  55.419998  54.680000  55.299999  55.299999   \n",
       "1256  2020-11-23  54.520000  54.709999  53.330002  54.700001  54.700001   \n",
       "1257  2020-11-24  54.000000  54.299999  53.520000  53.570000  53.570000   \n",
       "1258  2020-11-25  52.340000  53.090000  52.299999  52.599998  52.599998   \n",
       "\n",
       "        Volume  \n",
       "0      1252400  \n",
       "1      3776000  \n",
       "2      4550400  \n",
       "3      4100800  \n",
       "4      5124000  \n",
       "...        ...  \n",
       "1254   6768200  \n",
       "1255   4306000  \n",
       "1256  13670600  \n",
       "1257   8341400  \n",
       "1258  11639400  \n",
       "\n",
       "[1259 rows x 7 columns]"
      ]
     },
     "execution_count": 4,
     "metadata": {},
     "output_type": "execute_result"
    }
   ],
   "source": [
    "dataset_train"
   ]
  },
  {
   "cell_type": "markdown",
   "metadata": {},
   "source": [
    "### Visualization"
   ]
  },
  {
   "cell_type": "code",
   "execution_count": 5,
   "metadata": {},
   "outputs": [],
   "source": [
    "df_viz=dataset_train.copy()"
   ]
  },
  {
   "cell_type": "code",
   "execution_count": 6,
   "metadata": {},
   "outputs": [],
   "source": [
    "df_viz['Date'] = pd.to_datetime(df_viz['Date'])\n"
   ]
  },
  {
   "cell_type": "code",
   "execution_count": 7,
   "metadata": {},
   "outputs": [],
   "source": [
    "df_viz.index = df_viz[\"Date\"]\n"
   ]
  },
  {
   "cell_type": "code",
   "execution_count": 8,
   "metadata": {},
   "outputs": [
    {
     "data": {
      "image/png": "[encoded data removed]",
      "text/plain": [
       "<Figure size 864x432 with 1 Axes>"
      ]
     },
     "metadata": {
      "needs_background": "light"
     },
     "output_type": "display_data"
    }
   ],
   "source": [
    "df_viz[\"Close\"].plot(figsize = (12,6))\n",
    "plt.xlabel(\"Days\")\n",
    "plt.ylabel(\"Closing Price\")\n",
    "plt.title(\"Astra Zeneca Stock price in Days\")\n",
    "plt.show()"
   ]
  },
  {
   "cell_type": "markdown",
   "metadata": {},
   "source": [
    "### Train data"
   ]
  },
  {
   "cell_type": "code",
   "execution_count": null,
   "metadata": {
    "id": "Zt0yvoE-7kgK"
   },
   "outputs": [],
   "source": [
    "training_set = dataset_train.iloc[:, 4:5].values"
   ]
  },
  {
   "cell_type": "code",
   "execution_count": null,
   "metadata": {
    "colab": {
     "base_uri": "https://localhost:8080/"
    },
    "id": "LASx58BH7s1i",
    "outputId": "161abfe5-39f0-4d0f-ba91-aff479182ef8"
   },
   "outputs": [
    {
     "data": {
      "text/plain": [
       "array([[43.57    ],\n",
       "       [42.849998],\n",
       "       [42.98    ],\n",
       "       ...,\n",
       "       [58.25    ],\n",
       "       [58.110001],\n",
       "       [61.279999]])"
      ]
     },
     "execution_count": 52,
     "metadata": {
      "tags": []
     },
     "output_type": "execute_result"
    }
   ],
   "source": [
    "training_set"
   ]
  },
  {
   "cell_type": "markdown",
   "metadata": {},
   "source": [
    "### Normalizing the data"
   ]
  },
  {
   "cell_type": "code",
   "execution_count": null,
   "metadata": {
    "id": "vEpfYJBS7usa"
   },
   "outputs": [],
   "source": [
    "#scaling\n",
    "from sklearn.preprocessing import MinMaxScaler\n",
    "sc = MinMaxScaler(feature_range = (0, 1))\n",
    "training_set_scaled = sc.fit_transform(training_set)"
   ]
  },
  {
   "cell_type": "markdown",
   "metadata": {},
   "source": [
    "### Setting 60 time step as features and 1 as output"
   ]
  },
  {
   "cell_type": "code",
   "execution_count": null,
   "metadata": {
    "id": "9qm_fYjG71JC"
   },
   "outputs": [],
   "source": [
    "X_train = []\n",
    "y_train = []\n",
    "for i in range(60, 1259):\n",
    "    X_train.append(training_set_scaled[i-60:i, 0])\n",
    "    y_train.append(training_set_scaled[i, 0])\n",
    "X_train, y_train = np.array(X_train), np.array(y_train)"
   ]
  },
  {
   "cell_type": "code",
   "execution_count": null,
   "metadata": {
    "colab": {
     "base_uri": "https://localhost:8080/"
    },
    "id": "YQExZoIWVeuT",
    "outputId": "069957cb-406f-4bdf-ef0e-6c39abd81297"
   },
   "outputs": [
    {
     "data": {
      "text/plain": [
       "array([0.10852933, 0.1008785 , 0.08104282, ..., 0.81864559, 0.78662516,\n",
       "       0.75913856])"
      ]
     },
     "execution_count": 12,
     "metadata": {
      "tags": []
     },
     "output_type": "execute_result"
    }
   ],
   "source": [
    "y_train"
   ]
  },
  {
   "cell_type": "markdown",
   "metadata": {},
   "source": [
    "### Reshaping the features"
   ]
  },
  {
   "cell_type": "code",
   "execution_count": null,
   "metadata": {
    "id": "B_ADFNzi77Ja"
   },
   "outputs": [],
   "source": [
    "# Reshaping\n",
    "X_train = np.reshape(X_train, (X_train.shape[0], X_train.shape[1], 1))\n"
   ]
  },
  {
   "cell_type": "markdown",
   "metadata": {},
   "source": [
    "### Importing deep learning model"
   ]
  },
  {
   "cell_type": "code",
   "execution_count": null,
   "metadata": {
    "id": "HVljE9e58O43"
   },
   "outputs": [],
   "source": [
    "# Importing the Keras libraries and packages\n",
    "from keras.models import Sequential\n",
    "from keras.layers import Dense\n",
    "from keras.layers import LSTM\n",
    "from keras.layers import Dropout"
   ]
  },
  {
   "cell_type": "markdown",
   "metadata": {},
   "source": [
    "### Defining the model"
   ]
  },
  {
   "cell_type": "code",
   "execution_count": null,
   "metadata": {
    "id": "bzImosk97_Gy"
   },
   "outputs": [],
   "source": [
    "regressor = Sequential()\n",
    "\n",
    "# Adding the first LSTM layer and some Dropout regularisation\n",
    "regressor.add(LSTM(units = 80, return_sequences = True, input_shape = (X_train.shape[1], 1)))\n",
    "regressor.add(Dropout(0.2))\n",
    "\n",
    "# Adding a second LSTM layer and some Dropout regularisation\n",
    "regressor.add(LSTM(units = 80, return_sequences = True))\n",
    "regressor.add(Dropout(0.2))\n",
    "\n",
    "# Adding a third LSTM layer and some Dropout regularisation\n",
    "regressor.add(LSTM(units = 80, return_sequences = True))\n",
    "regressor.add(Dropout(0.2))\n",
    "\n",
    "# Adding a fourth LSTM layer and some Dropout regularisation\n",
    "regressor.add(LSTM(units = 80))\n",
    "regressor.add(Dropout(0.2))\n",
    "\n",
    "# Adding the output layer\n",
    "regressor.add(Dense(units = 1))\n",
    "\n",
    "# Compiling the RNN\n",
    "regressor.compile(optimizer = 'adam', loss = 'mean_squared_error')"
   ]
  },
  {
   "cell_type": "markdown",
   "metadata": {},
   "source": [
    "### Running the model"
   ]
  },
  {
   "cell_type": "code",
   "execution_count": null,
   "metadata": {
    "colab": {
     "base_uri": "https://localhost:8080/"
    },
    "id": "zj0AB1FW8NUK",
    "outputId": "cc104f06-01a3-4cb6-8f8b-a455943d6ca8"
   },
   "outputs": [
    {
     "name": "stdout",
     "output_type": "stream",
     "text": [
      "Epoch 1/200\n",
      "38/38 [==============================] - 6s 152ms/step - loss: 0.0189\n",
      "Epoch 2/200\n",
      "38/38 [==============================] - 6s 155ms/step - loss: 0.0052\n",
      "Epoch 3/200\n",
      "38/38 [==============================] - 8s 199ms/step - loss: 0.0039\n",
      "Epoch 4/200\n",
      "38/38 [==============================] - 9s 243ms/step - loss: 0.0039\n",
      "Epoch 5/200\n",
      "38/38 [==============================] - 6s 154ms/step - loss: 0.0040\n",
      "Epoch 6/200\n",
      "38/38 [==============================] - 6s 155ms/step - loss: 0.0054\n",
      "Epoch 7/200\n",
      "38/38 [==============================] - 6s 155ms/step - loss: 0.0034\n",
      "Epoch 8/200\n",
      "38/38 [==============================] - 6s 153ms/step - loss: 0.0030\n",
      "Epoch 9/200\n",
      "38/38 [==============================] - 6s 155ms/step - loss: 0.0032\n",
      "Epoch 10/200\n",
      "38/38 [==============================] - 6s 156ms/step - loss: 0.0032\n",
      "Epoch 11/200\n",
      "38/38 [==============================] - 6s 155ms/step - loss: 0.0029\n",
      "Epoch 12/200\n",
      "38/38 [==============================] - 6s 155ms/step - loss: 0.0033\n",
      "Epoch 13/200\n",
      "38/38 [==============================] - 6s 154ms/step - loss: 0.0030\n",
      "Epoch 14/200\n",
      "38/38 [==============================] - 6s 154ms/step - loss: 0.0025\n",
      "Epoch 15/200\n",
      "38/38 [==============================] - 6s 156ms/step - loss: 0.0028\n",
      "Epoch 16/200\n",
      "38/38 [==============================] - 6s 156ms/step - loss: 0.0031\n",
      "Epoch 17/200\n",
      "38/38 [==============================] - 6s 154ms/step - loss: 0.0023\n",
      "Epoch 18/200\n",
      "38/38 [==============================] - 6s 155ms/step - loss: 0.0022\n",
      "Epoch 19/200\n",
      "38/38 [==============================] - 6s 157ms/step - loss: 0.0023\n",
      "Epoch 20/200\n",
      "38/38 [==============================] - 6s 161ms/step - loss: 0.0024\n",
      "Epoch 21/200\n",
      "38/38 [==============================] - 6s 159ms/step - loss: 0.0023\n",
      "Epoch 22/200\n",
      "38/38 [==============================] - 6s 155ms/step - loss: 0.0021\n",
      "Epoch 23/200\n",
      "38/38 [==============================] - 6s 152ms/step - loss: 0.0022\n",
      "Epoch 24/200\n",
      "38/38 [==============================] - 6s 154ms/step - loss: 0.0021\n",
      "Epoch 25/200\n",
      "38/38 [==============================] - 6s 154ms/step - loss: 0.0021\n",
      "Epoch 26/200\n",
      "38/38 [==============================] - 6s 155ms/step - loss: 0.0020\n",
      "Epoch 27/200\n",
      "38/38 [==============================] - 6s 155ms/step - loss: 0.0019\n",
      "Epoch 28/200\n",
      "38/38 [==============================] - 6s 155ms/step - loss: 0.0022\n",
      "Epoch 29/200\n",
      "38/38 [==============================] - 6s 157ms/step - loss: 0.0019\n",
      "Epoch 30/200\n",
      "38/38 [==============================] - 6s 157ms/step - loss: 0.0021\n",
      "Epoch 31/200\n",
      "38/38 [==============================] - 6s 158ms/step - loss: 0.0018\n",
      "Epoch 32/200\n",
      "38/38 [==============================] - 6s 156ms/step - loss: 0.0018\n",
      "Epoch 33/200\n",
      "38/38 [==============================] - 6s 155ms/step - loss: 0.0018\n",
      "Epoch 34/200\n",
      "38/38 [==============================] - 6s 158ms/step - loss: 0.0018\n",
      "Epoch 35/200\n",
      "38/38 [==============================] - 6s 153ms/step - loss: 0.0018\n",
      "Epoch 36/200\n",
      "38/38 [==============================] - 6s 154ms/step - loss: 0.0016\n",
      "Epoch 37/200\n",
      "38/38 [==============================] - 6s 154ms/step - loss: 0.0023\n",
      "Epoch 38/200\n",
      "38/38 [==============================] - 6s 159ms/step - loss: 0.0018\n",
      "Epoch 39/200\n",
      "38/38 [==============================] - 6s 156ms/step - loss: 0.0018\n",
      "Epoch 40/200\n",
      "38/38 [==============================] - 6s 158ms/step - loss: 0.0014\n",
      "Epoch 41/200\n",
      "38/38 [==============================] - 6s 157ms/step - loss: 0.0016\n",
      "Epoch 42/200\n",
      "38/38 [==============================] - 6s 158ms/step - loss: 0.0017\n",
      "Epoch 43/200\n",
      "38/38 [==============================] - 6s 155ms/step - loss: 0.0014\n",
      "Epoch 44/200\n",
      "38/38 [==============================] - 6s 157ms/step - loss: 0.0016\n",
      "Epoch 45/200\n",
      "38/38 [==============================] - 6s 158ms/step - loss: 0.0015\n",
      "Epoch 46/200\n",
      "38/38 [==============================] - 6s 156ms/step - loss: 0.0015\n",
      "Epoch 47/200\n",
      "38/38 [==============================] - 6s 156ms/step - loss: 0.0017\n",
      "Epoch 48/200\n",
      "38/38 [==============================] - 6s 153ms/step - loss: 0.0016\n",
      "Epoch 49/200\n",
      "38/38 [==============================] - 6s 154ms/step - loss: 0.0015\n",
      "Epoch 50/200\n",
      "38/38 [==============================] - 6s 154ms/step - loss: 0.0017\n",
      "Epoch 51/200\n",
      "38/38 [==============================] - 6s 154ms/step - loss: 0.0014\n",
      "Epoch 52/200\n",
      "38/38 [==============================] - 6s 155ms/step - loss: 0.0013\n",
      "Epoch 53/200\n",
      "38/38 [==============================] - 6s 155ms/step - loss: 0.0013\n",
      "Epoch 54/200\n",
      "38/38 [==============================] - 6s 155ms/step - loss: 0.0012\n",
      "Epoch 55/200\n",
      "38/38 [==============================] - 6s 158ms/step - loss: 0.0014\n",
      "Epoch 56/200\n",
      "38/38 [==============================] - 6s 159ms/step - loss: 0.0014\n",
      "Epoch 57/200\n",
      "38/38 [==============================] - 6s 158ms/step - loss: 0.0013\n",
      "Epoch 58/200\n",
      "38/38 [==============================] - 6s 158ms/step - loss: 0.0014\n",
      "Epoch 59/200\n",
      "38/38 [==============================] - 6s 158ms/step - loss: 0.0013\n",
      "Epoch 60/200\n",
      "38/38 [==============================] - 6s 157ms/step - loss: 0.0013\n",
      "Epoch 61/200\n",
      "38/38 [==============================] - 6s 157ms/step - loss: 0.0012\n",
      "Epoch 62/200\n",
      "38/38 [==============================] - 6s 154ms/step - loss: 0.0011\n",
      "Epoch 63/200\n",
      "38/38 [==============================] - 6s 155ms/step - loss: 0.0011\n",
      "Epoch 64/200\n",
      "38/38 [==============================] - 6s 156ms/step - loss: 0.0013\n",
      "Epoch 65/200\n",
      "38/38 [==============================] - 6s 157ms/step - loss: 0.0012\n",
      "Epoch 66/200\n",
      "38/38 [==============================] - 6s 156ms/step - loss: 0.0011\n",
      "Epoch 67/200\n",
      "38/38 [==============================] - 6s 156ms/step - loss: 0.0011\n",
      "Epoch 68/200\n",
      "38/38 [==============================] - 6s 156ms/step - loss: 0.0012\n",
      "Epoch 69/200\n",
      "38/38 [==============================] - 6s 157ms/step - loss: 0.0011\n",
      "Epoch 70/200\n",
      "38/38 [==============================] - 6s 156ms/step - loss: 0.0013\n",
      "Epoch 71/200\n",
      "38/38 [==============================] - 6s 160ms/step - loss: 0.0012\n",
      "Epoch 72/200\n",
      "38/38 [==============================] - 6s 157ms/step - loss: 0.0013\n",
      "Epoch 73/200\n",
      "38/38 [==============================] - 6s 157ms/step - loss: 0.0014\n",
      "Epoch 74/200\n",
      "38/38 [==============================] - 6s 158ms/step - loss: 0.0010\n",
      "Epoch 75/200\n",
      "38/38 [==============================] - 6s 158ms/step - loss: 0.0011\n",
      "Epoch 76/200\n",
      "38/38 [==============================] - 6s 158ms/step - loss: 0.0012\n",
      "Epoch 77/200\n",
      "38/38 [==============================] - 6s 158ms/step - loss: 0.0011\n",
      "Epoch 78/200\n",
      "38/38 [==============================] - 6s 159ms/step - loss: 0.0011\n",
      "Epoch 79/200\n",
      "38/38 [==============================] - 6s 162ms/step - loss: 0.0011\n",
      "Epoch 80/200\n",
      "38/38 [==============================] - 6s 159ms/step - loss: 0.0011\n",
      "Epoch 81/200\n",
      "38/38 [==============================] - 6s 159ms/step - loss: 0.0012\n",
      "Epoch 82/200\n",
      "38/38 [==============================] - 6s 156ms/step - loss: 0.0010\n",
      "Epoch 83/200\n",
      "38/38 [==============================] - 6s 156ms/step - loss: 0.0010\n",
      "Epoch 84/200\n",
      "38/38 [==============================] - 6s 155ms/step - loss: 0.0010\n",
      "Epoch 85/200\n",
      "38/38 [==============================] - 6s 154ms/step - loss: 0.0010\n",
      "Epoch 86/200\n",
      "38/38 [==============================] - 6s 155ms/step - loss: 0.0012\n",
      "Epoch 87/200\n",
      "38/38 [==============================] - 6s 156ms/step - loss: 9.7912e-04\n",
      "Epoch 88/200\n",
      "38/38 [==============================] - 6s 161ms/step - loss: 0.0010\n",
      "Epoch 89/200\n",
      "38/38 [==============================] - 6s 157ms/step - loss: 0.0011\n",
      "Epoch 90/200\n",
      "38/38 [==============================] - 6s 155ms/step - loss: 0.0010\n",
      "Epoch 91/200\n",
      "38/38 [==============================] - 6s 156ms/step - loss: 0.0011\n",
      "Epoch 92/200\n",
      "38/38 [==============================] - 6s 157ms/step - loss: 0.0010\n",
      "Epoch 93/200\n",
      "38/38 [==============================] - 6s 154ms/step - loss: 9.6675e-04\n",
      "Epoch 94/200\n",
      "38/38 [==============================] - 6s 155ms/step - loss: 0.0010\n",
      "Epoch 95/200\n",
      "38/38 [==============================] - 6s 154ms/step - loss: 9.6954e-04\n",
      "Epoch 96/200\n",
      "38/38 [==============================] - 6s 155ms/step - loss: 9.8590e-04\n",
      "Epoch 97/200\n",
      "38/38 [==============================] - 6s 159ms/step - loss: 0.0011\n",
      "Epoch 98/200\n",
      "38/38 [==============================] - 6s 159ms/step - loss: 9.5130e-04\n",
      "Epoch 99/200\n",
      "38/38 [==============================] - 6s 160ms/step - loss: 0.0010\n",
      "Epoch 100/200\n",
      "38/38 [==============================] - 6s 161ms/step - loss: 0.0011\n",
      "Epoch 101/200\n",
      "38/38 [==============================] - 6s 159ms/step - loss: 0.0010\n",
      "Epoch 102/200\n",
      "38/38 [==============================] - 6s 160ms/step - loss: 0.0012\n",
      "Epoch 103/200\n",
      "38/38 [==============================] - 6s 156ms/step - loss: 0.0010\n",
      "Epoch 104/200\n",
      "38/38 [==============================] - 6s 157ms/step - loss: 8.8205e-04\n",
      "Epoch 105/200\n",
      "38/38 [==============================] - 6s 158ms/step - loss: 8.7721e-04\n",
      "Epoch 106/200\n",
      "38/38 [==============================] - 6s 156ms/step - loss: 9.2079e-04\n",
      "Epoch 107/200\n",
      "38/38 [==============================] - 6s 158ms/step - loss: 0.0010\n",
      "Epoch 108/200\n",
      "38/38 [==============================] - 6s 160ms/step - loss: 0.0010\n",
      "Epoch 109/200\n",
      "38/38 [==============================] - 6s 161ms/step - loss: 9.0274e-04\n",
      "Epoch 110/200\n",
      "38/38 [==============================] - 6s 159ms/step - loss: 8.4999e-04\n",
      "Epoch 111/200\n",
      "38/38 [==============================] - 6s 159ms/step - loss: 8.9909e-04\n",
      "Epoch 112/200\n",
      "38/38 [==============================] - 6s 158ms/step - loss: 9.2430e-04\n",
      "Epoch 113/200\n",
      "38/38 [==============================] - 6s 159ms/step - loss: 8.5583e-04\n",
      "Epoch 114/200\n",
      "38/38 [==============================] - 6s 159ms/step - loss: 9.6454e-04\n",
      "Epoch 115/200\n",
      "38/38 [==============================] - 6s 157ms/step - loss: 8.6366e-04\n",
      "Epoch 116/200\n",
      "38/38 [==============================] - 6s 157ms/step - loss: 8.8116e-04\n",
      "Epoch 117/200\n",
      "38/38 [==============================] - 6s 160ms/step - loss: 9.9224e-04\n",
      "Epoch 118/200\n",
      "38/38 [==============================] - 6s 161ms/step - loss: 9.7816e-04\n",
      "Epoch 119/200\n",
      "38/38 [==============================] - 6s 160ms/step - loss: 8.9914e-04\n",
      "Epoch 120/200\n",
      "38/38 [==============================] - 6s 159ms/step - loss: 9.5127e-04\n",
      "Epoch 121/200\n",
      "38/38 [==============================] - 6s 163ms/step - loss: 9.2238e-04\n",
      "Epoch 122/200\n",
      "38/38 [==============================] - 6s 162ms/step - loss: 8.5736e-04\n",
      "Epoch 123/200\n",
      "38/38 [==============================] - 6s 162ms/step - loss: 8.9885e-04\n",
      "Epoch 124/200\n",
      "38/38 [==============================] - 6s 161ms/step - loss: 0.0011\n",
      "Epoch 125/200\n",
      "38/38 [==============================] - 6s 158ms/step - loss: 9.6244e-04\n",
      "Epoch 126/200\n",
      "38/38 [==============================] - 6s 157ms/step - loss: 8.1556e-04\n",
      "Epoch 127/200\n",
      "38/38 [==============================] - 6s 158ms/step - loss: 9.2717e-04\n",
      "Epoch 128/200\n",
      "38/38 [==============================] - 6s 158ms/step - loss: 9.4476e-04\n",
      "Epoch 129/200\n",
      "38/38 [==============================] - 6s 156ms/step - loss: 9.0790e-04\n",
      "Epoch 130/200\n",
      "38/38 [==============================] - 6s 154ms/step - loss: 9.3733e-04\n",
      "Epoch 131/200\n",
      "38/38 [==============================] - 6s 155ms/step - loss: 0.0010\n",
      "Epoch 132/200\n",
      "38/38 [==============================] - 6s 154ms/step - loss: 8.2614e-04\n",
      "Epoch 133/200\n",
      "38/38 [==============================] - 6s 155ms/step - loss: 8.9372e-04\n",
      "Epoch 134/200\n",
      "38/38 [==============================] - 6s 155ms/step - loss: 9.1552e-04\n",
      "Epoch 135/200\n",
      "38/38 [==============================] - 6s 155ms/step - loss: 8.5991e-04\n",
      "Epoch 136/200\n",
      "38/38 [==============================] - 6s 156ms/step - loss: 8.9902e-04\n",
      "Epoch 137/200\n",
      "38/38 [==============================] - 6s 157ms/step - loss: 7.9869e-04\n",
      "Epoch 138/200\n",
      "38/38 [==============================] - 6s 158ms/step - loss: 8.8677e-04\n",
      "Epoch 139/200\n",
      "38/38 [==============================] - 6s 155ms/step - loss: 8.7433e-04\n",
      "Epoch 140/200\n",
      "38/38 [==============================] - 6s 157ms/step - loss: 8.9749e-04\n",
      "Epoch 141/200\n",
      "38/38 [==============================] - 6s 156ms/step - loss: 8.7214e-04\n",
      "Epoch 142/200\n",
      "38/38 [==============================] - 6s 156ms/step - loss: 8.7080e-04\n",
      "Epoch 143/200\n",
      "38/38 [==============================] - 6s 155ms/step - loss: 8.3127e-04\n",
      "Epoch 144/200\n",
      "38/38 [==============================] - 6s 156ms/step - loss: 9.0381e-04\n",
      "Epoch 145/200\n",
      "38/38 [==============================] - 6s 156ms/step - loss: 7.8472e-04\n",
      "Epoch 146/200\n",
      "38/38 [==============================] - 6s 157ms/step - loss: 8.5190e-04\n",
      "Epoch 147/200\n",
      "38/38 [==============================] - 6s 156ms/step - loss: 8.2518e-04\n",
      "Epoch 148/200\n",
      "38/38 [==============================] - 6s 156ms/step - loss: 9.3058e-04\n",
      "Epoch 149/200\n",
      "38/38 [==============================] - 6s 161ms/step - loss: 9.1453e-04\n",
      "Epoch 150/200\n",
      "38/38 [==============================] - 6s 156ms/step - loss: 9.5195e-04\n",
      "Epoch 151/200\n",
      "38/38 [==============================] - 6s 159ms/step - loss: 8.7779e-04\n",
      "Epoch 152/200\n",
      "38/38 [==============================] - 6s 157ms/step - loss: 8.1417e-04\n",
      "Epoch 153/200\n",
      "38/38 [==============================] - 6s 155ms/step - loss: 8.8557e-04\n",
      "Epoch 154/200\n",
      "38/38 [==============================] - 6s 156ms/step - loss: 9.0874e-04\n",
      "Epoch 155/200\n",
      "38/38 [==============================] - 6s 155ms/step - loss: 9.6418e-04\n",
      "Epoch 156/200\n",
      "38/38 [==============================] - 6s 156ms/step - loss: 8.1777e-04\n",
      "Epoch 157/200\n",
      "38/38 [==============================] - 6s 157ms/step - loss: 8.5439e-04\n",
      "Epoch 158/200\n",
      "38/38 [==============================] - 6s 155ms/step - loss: 9.7751e-04\n",
      "Epoch 159/200\n",
      "38/38 [==============================] - 6s 155ms/step - loss: 8.2482e-04\n",
      "Epoch 160/200\n",
      "38/38 [==============================] - 6s 154ms/step - loss: 0.0010\n",
      "Epoch 161/200\n",
      "38/38 [==============================] - 6s 154ms/step - loss: 8.5685e-04\n",
      "Epoch 162/200\n",
      "38/38 [==============================] - 6s 156ms/step - loss: 9.1310e-04\n",
      "Epoch 163/200\n",
      "38/38 [==============================] - 6s 155ms/step - loss: 8.7403e-04\n",
      "Epoch 164/200\n",
      "38/38 [==============================] - 6s 155ms/step - loss: 9.4345e-04\n",
      "Epoch 165/200\n",
      "38/38 [==============================] - 6s 155ms/step - loss: 9.1278e-04\n",
      "Epoch 166/200\n",
      "38/38 [==============================] - 6s 155ms/step - loss: 8.1504e-04\n",
      "Epoch 167/200\n",
      "38/38 [==============================] - 6s 157ms/step - loss: 8.2945e-04\n",
      "Epoch 168/200\n",
      "38/38 [==============================] - 6s 156ms/step - loss: 8.9302e-04\n",
      "Epoch 169/200\n",
      "38/38 [==============================] - 6s 157ms/step - loss: 9.0454e-04\n",
      "Epoch 170/200\n",
      "38/38 [==============================] - 6s 156ms/step - loss: 7.8017e-04\n",
      "Epoch 171/200\n",
      "38/38 [==============================] - 6s 157ms/step - loss: 8.0236e-04\n",
      "Epoch 172/200\n",
      "38/38 [==============================] - 6s 160ms/step - loss: 8.5394e-04\n",
      "Epoch 173/200\n",
      "38/38 [==============================] - 6s 160ms/step - loss: 7.5771e-04\n",
      "Epoch 174/200\n",
      "38/38 [==============================] - 6s 156ms/step - loss: 8.0297e-04\n",
      "Epoch 175/200\n",
      "38/38 [==============================] - 6s 156ms/step - loss: 8.9526e-04\n",
      "Epoch 176/200\n",
      "38/38 [==============================] - 6s 156ms/step - loss: 8.2267e-04\n",
      "Epoch 177/200\n",
      "38/38 [==============================] - 6s 157ms/step - loss: 8.5897e-04\n",
      "Epoch 178/200\n",
      "38/38 [==============================] - 6s 156ms/step - loss: 8.4297e-04\n",
      "Epoch 179/200\n",
      "38/38 [==============================] - 6s 156ms/step - loss: 8.8627e-04\n",
      "Epoch 180/200\n",
      "38/38 [==============================] - 6s 156ms/step - loss: 7.5439e-04\n",
      "Epoch 181/200\n",
      "38/38 [==============================] - 6s 156ms/step - loss: 7.1900e-04\n",
      "Epoch 182/200\n",
      "38/38 [==============================] - 6s 157ms/step - loss: 6.4093e-04\n",
      "Epoch 183/200\n",
      "38/38 [==============================] - 6s 156ms/step - loss: 9.6400e-04\n",
      "Epoch 184/200\n",
      "38/38 [==============================] - 6s 157ms/step - loss: 8.1960e-04\n",
      "Epoch 185/200\n",
      "38/38 [==============================] - 6s 157ms/step - loss: 9.0955e-04\n",
      "Epoch 186/200\n",
      "38/38 [==============================] - 6s 156ms/step - loss: 9.4750e-04\n",
      "Epoch 187/200\n",
      "38/38 [==============================] - 6s 158ms/step - loss: 8.6433e-04\n",
      "Epoch 188/200\n",
      "38/38 [==============================] - 6s 157ms/step - loss: 7.0859e-04\n",
      "Epoch 189/200\n",
      "38/38 [==============================] - 6s 155ms/step - loss: 9.9886e-04\n",
      "Epoch 190/200\n",
      "38/38 [==============================] - 6s 155ms/step - loss: 8.3382e-04\n",
      "Epoch 191/200\n",
      "38/38 [==============================] - 6s 157ms/step - loss: 8.0769e-04\n",
      "Epoch 192/200\n",
      "38/38 [==============================] - 6s 157ms/step - loss: 7.7113e-04\n",
      "Epoch 193/200\n",
      "38/38 [==============================] - 6s 156ms/step - loss: 8.8118e-04\n",
      "Epoch 194/200\n",
      "38/38 [==============================] - 6s 156ms/step - loss: 8.6236e-04\n",
      "Epoch 195/200\n",
      "38/38 [==============================] - 6s 157ms/step - loss: 7.2451e-04\n",
      "Epoch 196/200\n",
      "38/38 [==============================] - 6s 157ms/step - loss: 8.1813e-04\n",
      "Epoch 197/200\n",
      "38/38 [==============================] - 6s 156ms/step - loss: 9.0336e-04\n",
      "Epoch 198/200\n",
      "38/38 [==============================] - 6s 155ms/step - loss: 7.9359e-04\n",
      "Epoch 199/200\n",
      "38/38 [==============================] - 6s 155ms/step - loss: 7.3635e-04\n",
      "Epoch 200/200\n",
      "38/38 [==============================] - 6s 157ms/step - loss: 7.6189e-04\n"
     ]
    },
    {
     "data": {
      "text/plain": [
       "<tensorflow.python.keras.callbacks.History at 0x7f6ba4db2b00>"
      ]
     },
     "execution_count": 16,
     "metadata": {
      "tags": []
     },
     "output_type": "execute_result"
    }
   ],
   "source": [
    "regressor.fit(X_train, y_train, epochs = 200, batch_size = 32)"
   ]
  },
  {
   "cell_type": "markdown",
   "metadata": {},
   "source": [
    "### Test data"
   ]
  },
  {
   "cell_type": "code",
   "execution_count": null,
   "metadata": {
    "id": "rjXEPu6qIHpB"
   },
   "outputs": [],
   "source": [
    "dataset_test=dataset_train.tail(180)"
   ]
  },
  {
   "cell_type": "code",
   "execution_count": null,
   "metadata": {
    "colab": {
     "base_uri": "https://localhost:8080/"
    },
    "id": "8t2B2-vOM3YB",
    "outputId": "9f653078-9098-480c-b2f3-0b5dc45d17d8"
   },
   "outputs": [
    {
     "data": {
      "text/plain": [
       "(180, 7)"
      ]
     },
     "execution_count": 42,
     "metadata": {
      "tags": []
     },
     "output_type": "execute_result"
    }
   ],
   "source": [
    "dataset_test.shape"
   ]
  },
  {
   "cell_type": "code",
   "execution_count": null,
   "metadata": {
    "id": "q1_u7mX7KFR1"
   },
   "outputs": [],
   "source": [
    "real_stock_price = dataset_test.iloc[:, 4:5].values"
   ]
  },
  {
   "cell_type": "code",
   "execution_count": null,
   "metadata": {
    "id": "At-D7WqkKHz2"
   },
   "outputs": [],
   "source": [
    "dataset_total = pd.concat((dataset_train['Close'], dataset_test['Close']), axis = 0)\n",
    "inputs = dataset_total[len(dataset_total) - len(dataset_test) - 60:].values\n",
    "inputs = inputs.reshape(-1,1)\n",
    "inputs = sc.transform(inputs)"
   ]
  },
  {
   "cell_type": "code",
   "execution_count": null,
   "metadata": {
    "colab": {
     "base_uri": "https://localhost:8080/"
    },
    "id": "aCVWBgJqUdBY",
    "outputId": "4240daf4-ee84-46e7-a8a8-3e1831acaa78"
   },
   "outputs": [
    {
     "data": {
      "text/plain": [
       "(240, 1)"
      ]
     },
     "execution_count": 59,
     "metadata": {
      "tags": []
     },
     "output_type": "execute_result"
    }
   ],
   "source": [
    "inputs.shape"
   ]
  },
  {
   "cell_type": "markdown",
   "metadata": {},
   "source": [
    "### Predicting test data"
   ]
  },
  {
   "cell_type": "code",
   "execution_count": null,
   "metadata": {
    "id": "mzrJSoiXKVEt"
   },
   "outputs": [],
   "source": [
    "X_test = []\n",
    "for i in range(60, 240):\n",
    "    X_test.append(inputs[i-60:i, 0])\n",
    "X_test = np.array(X_test)\n",
    "X_test = np.reshape(X_test, (X_test.shape[0], X_test.shape[1], 1))\n",
    "predicted_stock_price = regressor.predict(X_test)\n",
    "predicted_stock_price = sc.inverse_transform(predicted_stock_price)"
   ]
  },
  {
   "cell_type": "markdown",
   "metadata": {},
   "source": [
    "### Plotting predicted and actual test data"
   ]
  },
  {
   "cell_type": "code",
   "execution_count": null,
   "metadata": {
    "colab": {
     "base_uri": "https://localhost:8080/",
     "height": 295
    },
    "id": "6RGbv4xOKauc",
    "outputId": "65cbf55d-727b-48b6-ae12-c240b60e93fd"
   },
   "outputs": [
    {
     "data": {
      "image/png": "[encoded data removed]",
      "text/plain": [
       "<Figure size 432x288 with 1 Axes>"
      ]
     },
     "metadata": {
      "needs_background": "light",
      "tags": []
     },
     "output_type": "display_data"
    }
   ],
   "source": [
    "plt.plot(real_stock_price, color = 'red', label = 'Real Astra Zeneca Stock Price')\n",
    "plt.plot(predicted_stock_price, color = 'blue', label = 'Predicted Astra Zeneca Stock Price')\n",
    "plt.title('Astra Zeneca Stock Price Prediction')\n",
    "plt.xlabel('Time')\n",
    "plt.ylabel('Astra Zeneca Stock Price')\n",
    "plt.legend()\n",
    "plt.show()"
   ]
  },
  {
   "cell_type": "markdown",
   "metadata": {},
   "source": [
    "## Plotting train, test and predictions"
   ]
  },
  {
   "cell_type": "code",
   "execution_count": null,
   "metadata": {
    "colab": {
     "base_uri": "https://localhost:8080/",
     "height": 350
    },
    "id": "ufFsRHF_Kdzt",
    "outputId": "ea08adf2-f6c1-468a-808e-ff8aa58ed14e"
   },
   "outputs": [
    {
     "data": {
      "image/png": "[encoded data removed]",
      "text/plain": [
       "<Figure size 720x360 with 1 Axes>"
      ]
     },
     "metadata": {
      "needs_background": "light",
      "tags": []
     },
     "output_type": "display_data"
    }
   ],
   "source": [
    "pred=pd.DataFrame(predicted_stock_price)\n",
    "plt.figure(figsize=(10, 5))\n",
    "plt.plot(dataset_train['Date'], dataset_train['Close'],label='Train')\n",
    "plt.plot(dataset_test['Date'], dataset_test['Close'], label='Test',color='r')\n",
    "plt.plot(dataset_test['Date'], predicted_stock_price, label='Prediction',color='g')\n",
    "plt.title(\"Prediction For 180 days\")\n",
    "plt.xlabel(\"Time\")\n",
    "plt.ylabel(\"Stock Price\")\n",
    "plt.legend(loc='best')\n",
    "plt.show()"
   ]
  },
  {
   "cell_type": "code",
   "execution_count": null,
   "metadata": {
    "colab": {
     "base_uri": "https://localhost:8080/",
     "height": 419
    },
    "id": "GdFGaGwEMgke",
    "outputId": "0f1b3546-3e80-4f06-c23b-85b176f9f865"
   },
   "outputs": [
    {
     "data": {
      "text/html": [
       "<div>\n",
       "<style scoped>\n",
       "    .dataframe tbody tr th:only-of-type {\n",
       "        vertical-align: middle;\n",
       "    }\n",
       "\n",
       "    .dataframe tbody tr th {\n",
       "        vertical-align: top;\n",
       "    }\n",
       "\n",
       "    .dataframe thead th {\n",
       "        text-align: right;\n",
       "    }\n",
       "</style>\n",
       "<table border=\"1\" class=\"dataframe\">\n",
       "  <thead>\n",
       "    <tr style=\"text-align: right;\">\n",
       "      <th></th>\n",
       "      <th>0</th>\n",
       "    </tr>\n",
       "  </thead>\n",
       "  <tbody>\n",
       "    <tr>\n",
       "      <th>0</th>\n",
       "      <td>61.290829</td>\n",
       "    </tr>\n",
       "    <tr>\n",
       "      <th>1</th>\n",
       "      <td>52.728172</td>\n",
       "    </tr>\n",
       "    <tr>\n",
       "      <th>2</th>\n",
       "      <td>46.482918</td>\n",
       "    </tr>\n",
       "    <tr>\n",
       "      <th>3</th>\n",
       "      <td>48.409103</td>\n",
       "    </tr>\n",
       "    <tr>\n",
       "      <th>4</th>\n",
       "      <td>49.906296</td>\n",
       "    </tr>\n",
       "    <tr>\n",
       "      <th>...</th>\n",
       "      <td>...</td>\n",
       "    </tr>\n",
       "    <tr>\n",
       "      <th>175</th>\n",
       "      <td>60.045288</td>\n",
       "    </tr>\n",
       "    <tr>\n",
       "      <th>176</th>\n",
       "      <td>59.721893</td>\n",
       "    </tr>\n",
       "    <tr>\n",
       "      <th>177</th>\n",
       "      <td>59.762909</td>\n",
       "    </tr>\n",
       "    <tr>\n",
       "      <th>178</th>\n",
       "      <td>58.918377</td>\n",
       "    </tr>\n",
       "    <tr>\n",
       "      <th>179</th>\n",
       "      <td>58.623604</td>\n",
       "    </tr>\n",
       "  </tbody>\n",
       "</table>\n",
       "<p>180 rows × 1 columns</p>\n",
       "</div>"
      ],
      "text/plain": [
       "             0\n",
       "0    61.290829\n",
       "1    52.728172\n",
       "2    46.482918\n",
       "3    48.409103\n",
       "4    49.906296\n",
       "..         ...\n",
       "175  60.045288\n",
       "176  59.721893\n",
       "177  59.762909\n",
       "178  58.918377\n",
       "179  58.623604\n",
       "\n",
       "[180 rows x 1 columns]"
      ]
     },
     "execution_count": 49,
     "metadata": {
      "tags": []
     },
     "output_type": "execute_result"
    }
   ],
   "source": [
    "pred"
   ]
  },
  {
   "cell_type": "markdown",
   "metadata": {},
   "source": [
    "### Evaluating the model"
   ]
  },
  {
   "cell_type": "code",
   "execution_count": null,
   "metadata": {
    "id": "lp65VfQ0QkY-"
   },
   "outputs": [],
   "source": [
    "from sklearn import metrics"
   ]
  },
  {
   "cell_type": "code",
   "execution_count": null,
   "metadata": {
    "id": "HNAVl5FaTrAh"
   },
   "outputs": [],
   "source": [
    "R_Score =metrics.r2_score(dataset_test['Close'],predicted_stock_price)"
   ]
  },
  {
   "cell_type": "code",
   "execution_count": null,
   "metadata": {
    "colab": {
     "base_uri": "https://localhost:8080/"
    },
    "id": "hD7IxurZT_UI",
    "outputId": "6ffd63ac-89ab-4464-be95-fd874112ecca"
   },
   "outputs": [
    {
     "name": "stdout",
     "output_type": "stream",
     "text": [
      "Test Score: 0.87 Accuracy\n"
     ]
    }
   ],
   "source": [
    "#R_Score = metrics.mean_squared_error(testY[0], testPredict[:,0]) ** .5\n",
    "print('Test Score: %.2f Accuracy' % (R_Score))\n"
   ]
  },
  {
   "cell_type": "code",
   "execution_count": null,
   "metadata": {
    "id": "ndFyYgNDXVHQ"
   },
   "outputs": [],
   "source": []
  }
 ],
 "metadata": {
  "colab": {
   "collapsed_sections": [],
   "name": "AstraZen_LSTM .ipynb",
   "provenance": []
  },
  "kernelspec": {
   "display_name": "Python 3",
   "language": "python",
   "name": "python3"
  },
  "language_info": {
   "codemirror_mode": {
    "name": "ipython",
    "version": 3
   },
   "file_extension": ".py",
   "mimetype": "text/x-python",
   "name": "python",
   "nbconvert_exporter": "python",
   "pygments_lexer": "ipython3",
   "version": "3.6.10"
  }
 },
 "nbformat": 4,
 "nbformat_minor": 1
}
